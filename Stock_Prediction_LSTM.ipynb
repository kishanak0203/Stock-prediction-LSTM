{
 "cells": [
  {
   "cell_type": "code",
   "execution_count": 33,
   "id": "96f5384e",
   "metadata": {},
   "outputs": [
    {
     "name": "stdout",
     "output_type": "stream",
     "text": [
      "Defaulting to user installation because normal site-packages is not writeable\n",
      "Requirement already satisfied: requests in c:\\users\\pandi\\appdata\\roaming\\python\\python312\\site-packages (2.31.0)\n",
      "Requirement already satisfied: beautifulsoup4 in c:\\users\\pandi\\appdata\\roaming\\python\\python312\\site-packages (4.12.3)\n",
      "Requirement already satisfied: IPython in c:\\users\\pandi\\appdata\\roaming\\python\\python312\\site-packages (8.24.0)\n",
      "Requirement already satisfied: nltk in c:\\users\\pandi\\appdata\\roaming\\python\\python312\\site-packages (3.8.1)\n",
      "Requirement already satisfied: keras in c:\\users\\pandi\\appdata\\roaming\\python\\python312\\site-packages (3.3.3)\n",
      "Requirement already satisfied: tensorflow in c:\\users\\pandi\\appdata\\roaming\\python\\python312\\site-packages (2.16.1)\n",
      "Requirement already satisfied: scikit-learn in c:\\users\\pandi\\appdata\\roaming\\python\\python312\\site-packages (1.4.2)\n",
      "Requirement already satisfied: yfinance in c:\\users\\pandi\\appdata\\roaming\\python\\python312\\site-packages (0.2.38)\n",
      "Requirement already satisfied: numpy in c:\\users\\pandi\\appdata\\roaming\\python\\python312\\site-packages (1.26.4)\n",
      "Requirement already satisfied: matplotlib in c:\\users\\pandi\\appdata\\roaming\\python\\python312\\site-packages (3.8.4)\n",
      "Requirement already satisfied: charset-normalizer<4,>=2 in c:\\users\\pandi\\appdata\\roaming\\python\\python312\\site-packages (from requests) (3.3.2)\n",
      "Requirement already satisfied: idna<4,>=2.5 in c:\\users\\pandi\\appdata\\roaming\\python\\python312\\site-packages (from requests) (3.7)\n",
      "Requirement already satisfied: urllib3<3,>=1.21.1 in c:\\users\\pandi\\appdata\\roaming\\python\\python312\\site-packages (from requests) (2.2.1)\n",
      "Requirement already satisfied: certifi>=2017.4.17 in c:\\users\\pandi\\appdata\\roaming\\python\\python312\\site-packages (from requests) (2024.2.2)\n",
      "Requirement already satisfied: soupsieve>1.2 in c:\\users\\pandi\\appdata\\roaming\\python\\python312\\site-packages (from beautifulsoup4) (2.5)\n",
      "Requirement already satisfied: decorator in c:\\users\\pandi\\appdata\\roaming\\python\\python312\\site-packages (from IPython) (5.1.1)\n",
      "Requirement already satisfied: jedi>=0.16 in c:\\users\\pandi\\appdata\\roaming\\python\\python312\\site-packages (from IPython) (0.19.1)\n",
      "Requirement already satisfied: matplotlib-inline in c:\\users\\pandi\\appdata\\roaming\\python\\python312\\site-packages (from IPython) (0.1.7)\n",
      "Requirement already satisfied: prompt-toolkit<3.1.0,>=3.0.41 in c:\\users\\pandi\\appdata\\roaming\\python\\python312\\site-packages (from IPython) (3.0.43)\n",
      "Requirement already satisfied: pygments>=2.4.0 in c:\\users\\pandi\\appdata\\roaming\\python\\python312\\site-packages (from IPython) (2.17.2)\n",
      "Requirement already satisfied: stack-data in c:\\users\\pandi\\appdata\\roaming\\python\\python312\\site-packages (from IPython) (0.6.3)\n",
      "Requirement already satisfied: traitlets>=5.13.0 in c:\\users\\pandi\\appdata\\roaming\\python\\python312\\site-packages (from IPython) (5.14.3)\n",
      "Requirement already satisfied: colorama in c:\\users\\pandi\\appdata\\roaming\\python\\python312\\site-packages (from IPython) (0.4.6)\n",
      "Requirement already satisfied: click in c:\\users\\pandi\\appdata\\roaming\\python\\python312\\site-packages (from nltk) (8.1.7)\n",
      "Requirement already satisfied: joblib in c:\\users\\pandi\\appdata\\roaming\\python\\python312\\site-packages (from nltk) (1.4.2)\n",
      "Requirement already satisfied: regex>=2021.8.3 in c:\\users\\pandi\\appdata\\roaming\\python\\python312\\site-packages (from nltk) (2024.4.28)\n",
      "Requirement already satisfied: tqdm in c:\\users\\pandi\\appdata\\roaming\\python\\python312\\site-packages (from nltk) (4.66.4)\n",
      "Requirement already satisfied: absl-py in c:\\users\\pandi\\appdata\\roaming\\python\\python312\\site-packages (from keras) (2.1.0)\n",
      "Requirement already satisfied: rich in c:\\users\\pandi\\appdata\\roaming\\python\\python312\\site-packages (from keras) (13.7.1)\n",
      "Requirement already satisfied: namex in c:\\users\\pandi\\appdata\\roaming\\python\\python312\\site-packages (from keras) (0.0.8)\n",
      "Requirement already satisfied: h5py in c:\\users\\pandi\\appdata\\roaming\\python\\python312\\site-packages (from keras) (3.11.0)\n",
      "Requirement already satisfied: optree in c:\\users\\pandi\\appdata\\roaming\\python\\python312\\site-packages (from keras) (0.11.0)\n",
      "Requirement already satisfied: ml-dtypes in c:\\users\\pandi\\appdata\\roaming\\python\\python312\\site-packages (from keras) (0.3.2)\n",
      "Requirement already satisfied: tensorflow-intel==2.16.1 in c:\\users\\pandi\\appdata\\roaming\\python\\python312\\site-packages (from tensorflow) (2.16.1)\n",
      "Requirement already satisfied: astunparse>=1.6.0 in c:\\users\\pandi\\appdata\\roaming\\python\\python312\\site-packages (from tensorflow-intel==2.16.1->tensorflow) (1.6.3)\n",
      "Requirement already satisfied: flatbuffers>=23.5.26 in c:\\users\\pandi\\appdata\\roaming\\python\\python312\\site-packages (from tensorflow-intel==2.16.1->tensorflow) (24.3.25)\n",
      "Requirement already satisfied: gast!=0.5.0,!=0.5.1,!=0.5.2,>=0.2.1 in c:\\users\\pandi\\appdata\\roaming\\python\\python312\\site-packages (from tensorflow-intel==2.16.1->tensorflow) (0.5.4)\n",
      "Requirement already satisfied: google-pasta>=0.1.1 in c:\\users\\pandi\\appdata\\roaming\\python\\python312\\site-packages (from tensorflow-intel==2.16.1->tensorflow) (0.2.0)\n",
      "Requirement already satisfied: libclang>=13.0.0 in c:\\users\\pandi\\appdata\\roaming\\python\\python312\\site-packages (from tensorflow-intel==2.16.1->tensorflow) (18.1.1)\n",
      "Requirement already satisfied: opt-einsum>=2.3.2 in c:\\users\\pandi\\appdata\\roaming\\python\\python312\\site-packages (from tensorflow-intel==2.16.1->tensorflow) (3.3.0)\n",
      "Requirement already satisfied: packaging in c:\\users\\pandi\\appdata\\roaming\\python\\python312\\site-packages (from tensorflow-intel==2.16.1->tensorflow) (24.0)\n",
      "Requirement already satisfied: protobuf!=4.21.0,!=4.21.1,!=4.21.2,!=4.21.3,!=4.21.4,!=4.21.5,<5.0.0dev,>=3.20.3 in c:\\users\\pandi\\appdata\\roaming\\python\\python312\\site-packages (from tensorflow-intel==2.16.1->tensorflow) (4.25.3)\n",
      "Requirement already satisfied: setuptools in c:\\users\\pandi\\appdata\\roaming\\python\\python312\\site-packages (from tensorflow-intel==2.16.1->tensorflow) (69.5.1)\n",
      "Requirement already satisfied: six>=1.12.0 in c:\\users\\pandi\\appdata\\roaming\\python\\python312\\site-packages (from tensorflow-intel==2.16.1->tensorflow) (1.16.0)\n",
      "Requirement already satisfied: termcolor>=1.1.0 in c:\\users\\pandi\\appdata\\roaming\\python\\python312\\site-packages (from tensorflow-intel==2.16.1->tensorflow) (2.4.0)\n",
      "Requirement already satisfied: typing-extensions>=3.6.6 in c:\\users\\pandi\\appdata\\roaming\\python\\python312\\site-packages (from tensorflow-intel==2.16.1->tensorflow) (4.11.0)\n",
      "Requirement already satisfied: wrapt>=1.11.0 in c:\\users\\pandi\\appdata\\roaming\\python\\python312\\site-packages (from tensorflow-intel==2.16.1->tensorflow) (1.16.0)\n",
      "Requirement already satisfied: grpcio<2.0,>=1.24.3 in c:\\users\\pandi\\appdata\\roaming\\python\\python312\\site-packages (from tensorflow-intel==2.16.1->tensorflow) (1.63.0)\n",
      "Requirement already satisfied: tensorboard<2.17,>=2.16 in c:\\users\\pandi\\appdata\\roaming\\python\\python312\\site-packages (from tensorflow-intel==2.16.1->tensorflow) (2.16.2)\n",
      "Requirement already satisfied: scipy>=1.6.0 in c:\\users\\pandi\\appdata\\roaming\\python\\python312\\site-packages (from scikit-learn) (1.13.0)\n",
      "Requirement already satisfied: threadpoolctl>=2.0.0 in c:\\users\\pandi\\appdata\\roaming\\python\\python312\\site-packages (from scikit-learn) (3.5.0)\n",
      "Requirement already satisfied: pandas>=1.3.0 in c:\\users\\pandi\\appdata\\roaming\\python\\python312\\site-packages (from yfinance) (2.2.2)\n",
      "Requirement already satisfied: multitasking>=0.0.7 in c:\\users\\pandi\\appdata\\roaming\\python\\python312\\site-packages (from yfinance) (0.0.11)\n",
      "Requirement already satisfied: lxml>=4.9.1 in c:\\users\\pandi\\appdata\\roaming\\python\\python312\\site-packages (from yfinance) (5.2.1)\n",
      "Requirement already satisfied: appdirs>=1.4.4 in c:\\users\\pandi\\appdata\\roaming\\python\\python312\\site-packages (from yfinance) (1.4.4)\n",
      "Requirement already satisfied: pytz>=2022.5 in c:\\users\\pandi\\appdata\\roaming\\python\\python312\\site-packages (from yfinance) (2024.1)\n",
      "Requirement already satisfied: frozendict>=2.3.4 in c:\\users\\pandi\\appdata\\roaming\\python\\python312\\site-packages (from yfinance) (2.4.2)\n",
      "Requirement already satisfied: peewee>=3.16.2 in c:\\users\\pandi\\appdata\\roaming\\python\\python312\\site-packages (from yfinance) (3.17.3)\n",
      "Requirement already satisfied: html5lib>=1.1 in c:\\users\\pandi\\appdata\\roaming\\python\\python312\\site-packages (from yfinance) (1.1)\n",
      "Requirement already satisfied: contourpy>=1.0.1 in c:\\users\\pandi\\appdata\\roaming\\python\\python312\\site-packages (from matplotlib) (1.2.1)\n",
      "Requirement already satisfied: cycler>=0.10 in c:\\users\\pandi\\appdata\\roaming\\python\\python312\\site-packages (from matplotlib) (0.12.1)\n",
      "Requirement already satisfied: fonttools>=4.22.0 in c:\\users\\pandi\\appdata\\roaming\\python\\python312\\site-packages (from matplotlib) (4.51.0)\n",
      "Requirement already satisfied: kiwisolver>=1.3.1 in c:\\users\\pandi\\appdata\\roaming\\python\\python312\\site-packages (from matplotlib) (1.4.5)\n",
      "Requirement already satisfied: pillow>=8 in c:\\users\\pandi\\appdata\\roaming\\python\\python312\\site-packages (from matplotlib) (10.3.0)\n",
      "Requirement already satisfied: pyparsing>=2.3.1 in c:\\users\\pandi\\appdata\\roaming\\python\\python312\\site-packages (from matplotlib) (3.1.2)\n",
      "Requirement already satisfied: python-dateutil>=2.7 in c:\\users\\pandi\\appdata\\roaming\\python\\python312\\site-packages (from matplotlib) (2.9.0.post0)\n",
      "Requirement already satisfied: webencodings in c:\\users\\pandi\\appdata\\roaming\\python\\python312\\site-packages (from html5lib>=1.1->yfinance) (0.5.1)\n",
      "Requirement already satisfied: parso<0.9.0,>=0.8.3 in c:\\users\\pandi\\appdata\\roaming\\python\\python312\\site-packages (from jedi>=0.16->IPython) (0.8.4)\n",
      "Requirement already satisfied: tzdata>=2022.7 in c:\\users\\pandi\\appdata\\roaming\\python\\python312\\site-packages (from pandas>=1.3.0->yfinance) (2024.1)\n",
      "Requirement already satisfied: wcwidth in c:\\users\\pandi\\appdata\\roaming\\python\\python312\\site-packages (from prompt-toolkit<3.1.0,>=3.0.41->IPython) (0.2.13)\n",
      "Requirement already satisfied: markdown-it-py>=2.2.0 in c:\\users\\pandi\\appdata\\roaming\\python\\python312\\site-packages (from rich->keras) (3.0.0)\n",
      "Requirement already satisfied: executing>=1.2.0 in c:\\users\\pandi\\appdata\\roaming\\python\\python312\\site-packages (from stack-data->IPython) (2.0.1)\n",
      "Requirement already satisfied: asttokens>=2.1.0 in c:\\users\\pandi\\appdata\\roaming\\python\\python312\\site-packages (from stack-data->IPython) (2.4.1)\n",
      "Requirement already satisfied: pure-eval in c:\\users\\pandi\\appdata\\roaming\\python\\python312\\site-packages (from stack-data->IPython) (0.2.2)\n",
      "Requirement already satisfied: wheel<1.0,>=0.23.0 in c:\\users\\pandi\\appdata\\roaming\\python\\python312\\site-packages (from astunparse>=1.6.0->tensorflow-intel==2.16.1->tensorflow) (0.43.0)\n",
      "Requirement already satisfied: mdurl~=0.1 in c:\\users\\pandi\\appdata\\roaming\\python\\python312\\site-packages (from markdown-it-py>=2.2.0->rich->keras) (0.1.2)\n",
      "Requirement already satisfied: markdown>=2.6.8 in c:\\users\\pandi\\appdata\\roaming\\python\\python312\\site-packages (from tensorboard<2.17,>=2.16->tensorflow-intel==2.16.1->tensorflow) (3.6)\n",
      "Requirement already satisfied: tensorboard-data-server<0.8.0,>=0.7.0 in c:\\users\\pandi\\appdata\\roaming\\python\\python312\\site-packages (from tensorboard<2.17,>=2.16->tensorflow-intel==2.16.1->tensorflow) (0.7.2)\n",
      "Requirement already satisfied: werkzeug>=1.0.1 in c:\\users\\pandi\\appdata\\roaming\\python\\python312\\site-packages (from tensorboard<2.17,>=2.16->tensorflow-intel==2.16.1->tensorflow) (3.0.2)\n",
      "Requirement already satisfied: MarkupSafe>=2.1.1 in c:\\users\\pandi\\appdata\\roaming\\python\\python312\\site-packages (from werkzeug>=1.0.1->tensorboard<2.17,>=2.16->tensorflow-intel==2.16.1->tensorflow) (2.1.5)\n"
     ]
    },
    {
     "name": "stderr",
     "output_type": "stream",
     "text": [
      "\n",
      "[notice] A new release of pip is available: 23.2.1 -> 24.0\n",
      "[notice] To update, run: python.exe -m pip install --upgrade pip\n"
     ]
    }
   ],
   "source": [
    "#yahoo finance as data source\n",
    "!pip install requests beautifulsoup4 IPython nltk keras tensorflow scikit-learn yfinance numpy matplotlib\n",
    "import yfinance as yf\n",
    "import matplotlib.pyplot as plt\n",
    "import numpy as np\n",
    "from sklearn.preprocessing import MinMaxScaler\n",
    "from keras.models import Sequential\n",
    "from keras.layers import Dense, LSTM"
   ]
  },
  {
   "cell_type": "code",
   "execution_count": 34,
   "id": "cc39c070",
   "metadata": {},
   "outputs": [],
   "source": [
    "#See the yahoo finance ticker for your stock symbol\n",
    "stock_symbol = 'WIPRO.NS'"
   ]
  },
  {
   "cell_type": "code",
   "execution_count": 35,
   "id": "15a2ca75",
   "metadata": {},
   "outputs": [
    {
     "name": "stderr",
     "output_type": "stream",
     "text": [
      "[*********************100%%**********************]  1 of 1 completed\n"
     ]
    }
   ],
   "source": [
    "#all data with interval of 1 day\n",
    "data = yf.download(tickers=stock_symbol,period='Max',interval='1d')"
   ]
  },
  {
   "cell_type": "code",
   "execution_count": 36,
   "id": "261b94f1",
   "metadata": {},
   "outputs": [
    {
     "data": {
      "text/plain": [
       "pandas.core.frame.DataFrame"
      ]
     },
     "execution_count": 36,
     "metadata": {},
     "output_type": "execute_result"
    }
   ],
   "source": [
    "type(data)"
   ]
  },
  {
   "cell_type": "code",
   "execution_count": 37,
   "id": "6fc9ee2c",
   "metadata": {},
   "outputs": [
    {
     "data": {
      "text/html": [
       "<div>\n",
       "<style scoped>\n",
       "    .dataframe tbody tr th:only-of-type {\n",
       "        vertical-align: middle;\n",
       "    }\n",
       "\n",
       "    .dataframe tbody tr th {\n",
       "        vertical-align: top;\n",
       "    }\n",
       "\n",
       "    .dataframe thead th {\n",
       "        text-align: right;\n",
       "    }\n",
       "</style>\n",
       "<table border=\"1\" class=\"dataframe\">\n",
       "  <thead>\n",
       "    <tr style=\"text-align: right;\">\n",
       "      <th></th>\n",
       "      <th>Open</th>\n",
       "      <th>High</th>\n",
       "      <th>Low</th>\n",
       "      <th>Close</th>\n",
       "      <th>Adj Close</th>\n",
       "      <th>Volume</th>\n",
       "    </tr>\n",
       "    <tr>\n",
       "      <th>Date</th>\n",
       "      <th></th>\n",
       "      <th></th>\n",
       "      <th></th>\n",
       "      <th></th>\n",
       "      <th></th>\n",
       "      <th></th>\n",
       "    </tr>\n",
       "  </thead>\n",
       "  <tbody>\n",
       "    <tr>\n",
       "      <th>1996-01-01</th>\n",
       "      <td>1.1250</td>\n",
       "      <td>1.1250</td>\n",
       "      <td>1.1250</td>\n",
       "      <td>1.1250</td>\n",
       "      <td>0.908191</td>\n",
       "      <td>19999</td>\n",
       "    </tr>\n",
       "    <tr>\n",
       "      <th>1996-01-02</th>\n",
       "      <td>1.0375</td>\n",
       "      <td>1.0375</td>\n",
       "      <td>1.0375</td>\n",
       "      <td>1.0375</td>\n",
       "      <td>0.837554</td>\n",
       "      <td>39999</td>\n",
       "    </tr>\n",
       "    <tr>\n",
       "      <th>1996-01-03</th>\n",
       "      <td>1.0750</td>\n",
       "      <td>1.0750</td>\n",
       "      <td>1.0750</td>\n",
       "      <td>1.0750</td>\n",
       "      <td>0.867827</td>\n",
       "      <td>19999</td>\n",
       "    </tr>\n",
       "    <tr>\n",
       "      <th>1996-01-04</th>\n",
       "      <td>1.0750</td>\n",
       "      <td>1.0750</td>\n",
       "      <td>1.0750</td>\n",
       "      <td>1.0750</td>\n",
       "      <td>0.867827</td>\n",
       "      <td>119999</td>\n",
       "    </tr>\n",
       "    <tr>\n",
       "      <th>1996-01-05</th>\n",
       "      <td>1.0750</td>\n",
       "      <td>1.0750</td>\n",
       "      <td>1.0750</td>\n",
       "      <td>1.0750</td>\n",
       "      <td>0.867827</td>\n",
       "      <td>0</td>\n",
       "    </tr>\n",
       "  </tbody>\n",
       "</table>\n",
       "</div>"
      ],
      "text/plain": [
       "              Open    High     Low   Close  Adj Close  Volume\n",
       "Date                                                         \n",
       "1996-01-01  1.1250  1.1250  1.1250  1.1250   0.908191   19999\n",
       "1996-01-02  1.0375  1.0375  1.0375  1.0375   0.837554   39999\n",
       "1996-01-03  1.0750  1.0750  1.0750  1.0750   0.867827   19999\n",
       "1996-01-04  1.0750  1.0750  1.0750  1.0750   0.867827  119999\n",
       "1996-01-05  1.0750  1.0750  1.0750  1.0750   0.867827       0"
      ]
     },
     "execution_count": 37,
     "metadata": {},
     "output_type": "execute_result"
    }
   ],
   "source": [
    "data.head()"
   ]
  },
  {
   "cell_type": "code",
   "execution_count": 38,
   "id": "7b9b6151",
   "metadata": {},
   "outputs": [
    {
     "data": {
      "text/plain": [
       "7120"
      ]
     },
     "execution_count": 38,
     "metadata": {},
     "output_type": "execute_result"
    }
   ],
   "source": [
    "len(data)"
   ]
  },
  {
   "cell_type": "code",
   "execution_count": 39,
   "id": "df42baf6",
   "metadata": {},
   "outputs": [
    {
     "data": {
      "text/html": [
       "<div>\n",
       "<style scoped>\n",
       "    .dataframe tbody tr th:only-of-type {\n",
       "        vertical-align: middle;\n",
       "    }\n",
       "\n",
       "    .dataframe tbody tr th {\n",
       "        vertical-align: top;\n",
       "    }\n",
       "\n",
       "    .dataframe thead th {\n",
       "        text-align: right;\n",
       "    }\n",
       "</style>\n",
       "<table border=\"1\" class=\"dataframe\">\n",
       "  <thead>\n",
       "    <tr style=\"text-align: right;\">\n",
       "      <th></th>\n",
       "      <th>Open</th>\n",
       "      <th>High</th>\n",
       "      <th>Low</th>\n",
       "      <th>Close</th>\n",
       "      <th>Adj Close</th>\n",
       "      <th>Volume</th>\n",
       "    </tr>\n",
       "    <tr>\n",
       "      <th>Date</th>\n",
       "      <th></th>\n",
       "      <th></th>\n",
       "      <th></th>\n",
       "      <th></th>\n",
       "      <th></th>\n",
       "      <th></th>\n",
       "    </tr>\n",
       "  </thead>\n",
       "  <tbody>\n",
       "    <tr>\n",
       "      <th>2024-04-26</th>\n",
       "      <td>461.899994</td>\n",
       "      <td>475.799988</td>\n",
       "      <td>461.600006</td>\n",
       "      <td>464.600006</td>\n",
       "      <td>464.600006</td>\n",
       "      <td>10739147</td>\n",
       "    </tr>\n",
       "    <tr>\n",
       "      <th>2024-04-29</th>\n",
       "      <td>467.649994</td>\n",
       "      <td>468.000000</td>\n",
       "      <td>461.600006</td>\n",
       "      <td>462.950012</td>\n",
       "      <td>462.950012</td>\n",
       "      <td>3624970</td>\n",
       "    </tr>\n",
       "    <tr>\n",
       "      <th>2024-04-30</th>\n",
       "      <td>463.000000</td>\n",
       "      <td>466.750000</td>\n",
       "      <td>461.500000</td>\n",
       "      <td>462.399994</td>\n",
       "      <td>462.399994</td>\n",
       "      <td>4451478</td>\n",
       "    </tr>\n",
       "    <tr>\n",
       "      <th>2024-05-02</th>\n",
       "      <td>462.399994</td>\n",
       "      <td>463.000000</td>\n",
       "      <td>455.450012</td>\n",
       "      <td>457.399994</td>\n",
       "      <td>457.399994</td>\n",
       "      <td>7468638</td>\n",
       "    </tr>\n",
       "    <tr>\n",
       "      <th>2024-05-03</th>\n",
       "      <td>460.399994</td>\n",
       "      <td>462.000000</td>\n",
       "      <td>453.200012</td>\n",
       "      <td>457.350006</td>\n",
       "      <td>457.350006</td>\n",
       "      <td>4865313</td>\n",
       "    </tr>\n",
       "  </tbody>\n",
       "</table>\n",
       "</div>"
      ],
      "text/plain": [
       "                  Open        High         Low       Close   Adj Close  \\\n",
       "Date                                                                     \n",
       "2024-04-26  461.899994  475.799988  461.600006  464.600006  464.600006   \n",
       "2024-04-29  467.649994  468.000000  461.600006  462.950012  462.950012   \n",
       "2024-04-30  463.000000  466.750000  461.500000  462.399994  462.399994   \n",
       "2024-05-02  462.399994  463.000000  455.450012  457.399994  457.399994   \n",
       "2024-05-03  460.399994  462.000000  453.200012  457.350006  457.350006   \n",
       "\n",
       "              Volume  \n",
       "Date                  \n",
       "2024-04-26  10739147  \n",
       "2024-04-29   3624970  \n",
       "2024-04-30   4451478  \n",
       "2024-05-02   7468638  \n",
       "2024-05-03   4865313  "
      ]
     },
     "execution_count": 39,
     "metadata": {},
     "output_type": "execute_result"
    }
   ],
   "source": [
    "data.tail()"
   ]
  },
  {
   "cell_type": "code",
   "execution_count": 40,
   "id": "704c4c70",
   "metadata": {},
   "outputs": [],
   "source": [
    "opn = data[['Open']]"
   ]
  },
  {
   "cell_type": "code",
   "execution_count": 41,
   "id": "24799c75",
   "metadata": {},
   "outputs": [
    {
     "data": {
      "text/plain": [
       "<Axes: xlabel='Date'>"
      ]
     },
     "execution_count": 41,
     "metadata": {},
     "output_type": "execute_result"
    },
    {
     "data": {
      "image/png": "[encoded data removed]",
      "text/plain": [
       "<Figure size 640x480 with 1 Axes>"
      ]
     },
     "metadata": {},
     "output_type": "display_data"
    }
   ],
   "source": [
    "opn.plot()"
   ]
  },
  {
   "cell_type": "code",
   "execution_count": 42,
   "id": "8aa8007f",
   "metadata": {},
   "outputs": [],
   "source": [
    "ds = opn.values"
   ]
  },
  {
   "cell_type": "code",
   "execution_count": 43,
   "id": "2a621f01",
   "metadata": {},
   "outputs": [
    {
     "name": "stdout",
     "output_type": "stream",
     "text": [
      "[460.3999939]\n"
     ]
    }
   ],
   "source": [
    "# Recent price of the stock\n",
    "print(ds[len(ds)-1])"
   ]
  },
  {
   "cell_type": "code",
   "execution_count": 44,
   "id": "944ad560",
   "metadata": {},
   "outputs": [
    {
     "data": {
      "text/plain": [
       "[<matplotlib.lines.Line2D at 0x2d473157f50>]"
      ]
     },
     "execution_count": 44,
     "metadata": {},
     "output_type": "execute_result"
    },
    {
     "data": {
      "image/png": "[encoded data removed]",
      "text/plain": [
       "<Figure size 640x480 with 1 Axes>"
      ]
     },
     "metadata": {},
     "output_type": "display_data"
    }
   ],
   "source": [
    "plt.plot(ds)"
   ]
  },
  {
   "cell_type": "code",
   "execution_count": 45,
   "id": "f8aec311",
   "metadata": {},
   "outputs": [],
   "source": [
    "#Using MinMaxScaler for normalizing data between 0 & 1\n",
    "normalizer = MinMaxScaler(feature_range=(0,1))\n",
    "ds_scaled = normalizer.fit_transform(np.array(ds).reshape(-1,1))"
   ]
  },
  {
   "cell_type": "code",
   "execution_count": 46,
   "id": "e7610614",
   "metadata": {},
   "outputs": [
    {
     "data": {
      "text/plain": [
       "(7120, 7120)"
      ]
     },
     "execution_count": 46,
     "metadata": {},
     "output_type": "execute_result"
    }
   ],
   "source": [
    "len(ds_scaled), len(ds)"
   ]
  },
  {
   "cell_type": "code",
   "execution_count": 47,
   "id": "1c8ca7b7",
   "metadata": {},
   "outputs": [],
   "source": [
    "#Defining test and train data sizes\n",
    "train_size = int(len(ds_scaled)*0.90)\n",
    "test_size = len(ds_scaled) - train_size"
   ]
  },
  {
   "cell_type": "code",
   "execution_count": 48,
   "id": "a992a9f6",
   "metadata": {},
   "outputs": [
    {
     "data": {
      "text/plain": [
       "(6408, 712)"
      ]
     },
     "execution_count": 48,
     "metadata": {},
     "output_type": "execute_result"
    }
   ],
   "source": [
    "train_size,test_size"
   ]
  },
  {
   "cell_type": "code",
   "execution_count": 49,
   "id": "21b6be39",
   "metadata": {},
   "outputs": [],
   "source": [
    "#Splitting data between train and test\n",
    "ds_train, ds_test = ds_scaled[0:train_size,:], ds_scaled[train_size:len(ds_scaled),:1]"
   ]
  },
  {
   "cell_type": "code",
   "execution_count": 50,
   "id": "2dc6779e",
   "metadata": {},
   "outputs": [
    {
     "data": {
      "text/plain": [
       "(6408, 712)"
      ]
     },
     "execution_count": 50,
     "metadata": {},
     "output_type": "execute_result"
    }
   ],
   "source": [
    "len(ds_train),len(ds_test)"
   ]
  },
  {
   "cell_type": "code",
   "execution_count": 51,
   "id": "37ec9dcc",
   "metadata": {},
   "outputs": [],
   "source": [
    "#creating dataset in time series for LSTM model \n",
    "#X[100,120,140,160,180] : Y[200]\n",
    "def create_ds(dataset,step):\n",
    "    Xtrain, Ytrain = [], []\n",
    "    for i in range(len(dataset)-step-1):\n",
    "        a = dataset[i:(i+step), 0]\n",
    "        Xtrain.append(a)\n",
    "        Ytrain.append(dataset[i + step, 0])\n",
    "    return np.array(Xtrain), np.array(Ytrain)"
   ]
  },
  {
   "cell_type": "code",
   "execution_count": 52,
   "id": "b5161385",
   "metadata": {},
   "outputs": [],
   "source": [
    "#Taking 100 days price as one record for training\n",
    "time_stamp = 10\n",
    "X_train, y_train = create_ds(ds_train,time_stamp)\n",
    "X_test, y_test = create_ds(ds_test,time_stamp)"
   ]
  },
  {
   "cell_type": "code",
   "execution_count": 53,
   "id": "ea26393f",
   "metadata": {},
   "outputs": [
    {
     "data": {
      "text/plain": [
       "((6397, 10), (6397,))"
      ]
     },
     "execution_count": 53,
     "metadata": {},
     "output_type": "execute_result"
    }
   ],
   "source": [
    "X_train.shape,y_train.shape"
   ]
  },
  {
   "cell_type": "code",
   "execution_count": 54,
   "id": "cc561242",
   "metadata": {},
   "outputs": [
    {
     "data": {
      "text/plain": [
       "((701, 10), (701,))"
      ]
     },
     "execution_count": 54,
     "metadata": {},
     "output_type": "execute_result"
    }
   ],
   "source": [
    "X_test.shape, y_test.shape"
   ]
  },
  {
   "cell_type": "code",
   "execution_count": 55,
   "id": "f064683b",
   "metadata": {},
   "outputs": [],
   "source": [
    "#Reshaping data to fit into LSTM model\n",
    "X_train = X_train.reshape(X_train.shape[0],X_train.shape[1] , 1)\n",
    "X_test = X_test.reshape(X_test.shape[0],X_test.shape[1] , 1)"
   ]
  },
  {
   "cell_type": "code",
   "execution_count": 56,
   "id": "db1b19bf",
   "metadata": {},
   "outputs": [
    {
     "name": "stderr",
     "output_type": "stream",
     "text": [
      "C:\\Users\\pandi\\AppData\\Roaming\\Python\\Python312\\site-packages\\keras\\src\\layers\\rnn\\rnn.py:204: UserWarning: Do not pass an `input_shape`/`input_dim` argument to a layer. When using Sequential models, prefer using an `Input(shape)` object as the first layer in the model instead.\n",
      "  super().__init__(**kwargs)\n"
     ]
    },
    {
     "data": {
      "text/html": [
       "<pre style=\"white-space:pre;overflow-x:auto;line-height:normal;font-family:Menlo,'DejaVu Sans Mono',consolas,'Courier New',monospace\"><span style=\"font-weight: bold\">Model: \"sequential_2\"</span>\n",
       "</pre>\n"
      ],
      "text/plain": [
       "\u001b[1mModel: \"sequential_2\"\u001b[0m\n"
      ]
     },
     "metadata": {},
     "output_type": "display_data"
    },
    {
     "data": {
      "text/html": [
       "<pre style=\"white-space:pre;overflow-x:auto;line-height:normal;font-family:Menlo,'DejaVu Sans Mono',consolas,'Courier New',monospace\">┏━━━━━━━━━━━━━━━━━━━━━━━━━━━━━━━━━┳━━━━━━━━━━━━━━━━━━━━━━━━┳━━━━━━━━━━━━━━━┓\n",
       "┃<span style=\"font-weight: bold\"> Layer (type)                    </span>┃<span style=\"font-weight: bold\"> Output Shape           </span>┃<span style=\"font-weight: bold\">       Param # </span>┃\n",
       "┡━━━━━━━━━━━━━━━━━━━━━━━━━━━━━━━━━╇━━━━━━━━━━━━━━━━━━━━━━━━╇━━━━━━━━━━━━━━━┩\n",
       "│ lstm_6 (<span style=\"color: #0087ff; text-decoration-color: #0087ff\">LSTM</span>)                   │ (<span style=\"color: #00d7ff; text-decoration-color: #00d7ff\">None</span>, <span style=\"color: #00af00; text-decoration-color: #00af00\">10</span>, <span style=\"color: #00af00; text-decoration-color: #00af00\">50</span>)         │        <span style=\"color: #00af00; text-decoration-color: #00af00\">10,400</span> │\n",
       "├─────────────────────────────────┼────────────────────────┼───────────────┤\n",
       "│ lstm_7 (<span style=\"color: #0087ff; text-decoration-color: #0087ff\">LSTM</span>)                   │ (<span style=\"color: #00d7ff; text-decoration-color: #00d7ff\">None</span>, <span style=\"color: #00af00; text-decoration-color: #00af00\">10</span>, <span style=\"color: #00af00; text-decoration-color: #00af00\">50</span>)         │        <span style=\"color: #00af00; text-decoration-color: #00af00\">20,200</span> │\n",
       "├─────────────────────────────────┼────────────────────────┼───────────────┤\n",
       "│ lstm_8 (<span style=\"color: #0087ff; text-decoration-color: #0087ff\">LSTM</span>)                   │ (<span style=\"color: #00d7ff; text-decoration-color: #00d7ff\">None</span>, <span style=\"color: #00af00; text-decoration-color: #00af00\">50</span>)             │        <span style=\"color: #00af00; text-decoration-color: #00af00\">20,200</span> │\n",
       "├─────────────────────────────────┼────────────────────────┼───────────────┤\n",
       "│ dense_2 (<span style=\"color: #0087ff; text-decoration-color: #0087ff\">Dense</span>)                 │ (<span style=\"color: #00d7ff; text-decoration-color: #00d7ff\">None</span>, <span style=\"color: #00af00; text-decoration-color: #00af00\">1</span>)              │            <span style=\"color: #00af00; text-decoration-color: #00af00\">51</span> │\n",
       "└─────────────────────────────────┴────────────────────────┴───────────────┘\n",
       "</pre>\n"
      ],
      "text/plain": [
       "┏━━━━━━━━━━━━━━━━━━━━━━━━━━━━━━━━━┳━━━━━━━━━━━━━━━━━━━━━━━━┳━━━━━━━━━━━━━━━┓\n",
       "┃\u001b[1m \u001b[0m\u001b[1mLayer (type)                   \u001b[0m\u001b[1m \u001b[0m┃\u001b[1m \u001b[0m\u001b[1mOutput Shape          \u001b[0m\u001b[1m \u001b[0m┃\u001b[1m \u001b[0m\u001b[1m      Param #\u001b[0m\u001b[1m \u001b[0m┃\n",
       "┡━━━━━━━━━━━━━━━━━━━━━━━━━━━━━━━━━╇━━━━━━━━━━━━━━━━━━━━━━━━╇━━━━━━━━━━━━━━━┩\n",
       "│ lstm_6 (\u001b[38;5;33mLSTM\u001b[0m)                   │ (\u001b[38;5;45mNone\u001b[0m, \u001b[38;5;34m10\u001b[0m, \u001b[38;5;34m50\u001b[0m)         │        \u001b[38;5;34m10,400\u001b[0m │\n",
       "├─────────────────────────────────┼────────────────────────┼───────────────┤\n",
       "│ lstm_7 (\u001b[38;5;33mLSTM\u001b[0m)                   │ (\u001b[38;5;45mNone\u001b[0m, \u001b[38;5;34m10\u001b[0m, \u001b[38;5;34m50\u001b[0m)         │        \u001b[38;5;34m20,200\u001b[0m │\n",
       "├─────────────────────────────────┼────────────────────────┼───────────────┤\n",
       "│ lstm_8 (\u001b[38;5;33mLSTM\u001b[0m)                   │ (\u001b[38;5;45mNone\u001b[0m, \u001b[38;5;34m50\u001b[0m)             │        \u001b[38;5;34m20,200\u001b[0m │\n",
       "├─────────────────────────────────┼────────────────────────┼───────────────┤\n",
       "│ dense_2 (\u001b[38;5;33mDense\u001b[0m)                 │ (\u001b[38;5;45mNone\u001b[0m, \u001b[38;5;34m1\u001b[0m)              │            \u001b[38;5;34m51\u001b[0m │\n",
       "└─────────────────────────────────┴────────────────────────┴───────────────┘\n"
      ]
     },
     "metadata": {},
     "output_type": "display_data"
    },
    {
     "data": {
      "text/html": [
       "<pre style=\"white-space:pre;overflow-x:auto;line-height:normal;font-family:Menlo,'DejaVu Sans Mono',consolas,'Courier New',monospace\"><span style=\"font-weight: bold\"> Total params: </span><span style=\"color: #00af00; text-decoration-color: #00af00\">50,851</span> (198.64 KB)\n",
       "</pre>\n"
      ],
      "text/plain": [
       "\u001b[1m Total params: \u001b[0m\u001b[38;5;34m50,851\u001b[0m (198.64 KB)\n"
      ]
     },
     "metadata": {},
     "output_type": "display_data"
    },
    {
     "data": {
      "text/html": [
       "<pre style=\"white-space:pre;overflow-x:auto;line-height:normal;font-family:Menlo,'DejaVu Sans Mono',consolas,'Courier New',monospace\"><span style=\"font-weight: bold\"> Trainable params: </span><span style=\"color: #00af00; text-decoration-color: #00af00\">50,851</span> (198.64 KB)\n",
       "</pre>\n"
      ],
      "text/plain": [
       "\u001b[1m Trainable params: \u001b[0m\u001b[38;5;34m50,851\u001b[0m (198.64 KB)\n"
      ]
     },
     "metadata": {},
     "output_type": "display_data"
    },
    {
     "data": {
      "text/html": [
       "<pre style=\"white-space:pre;overflow-x:auto;line-height:normal;font-family:Menlo,'DejaVu Sans Mono',consolas,'Courier New',monospace\"><span style=\"font-weight: bold\"> Non-trainable params: </span><span style=\"color: #00af00; text-decoration-color: #00af00\">0</span> (0.00 B)\n",
       "</pre>\n"
      ],
      "text/plain": [
       "\u001b[1m Non-trainable params: \u001b[0m\u001b[38;5;34m0\u001b[0m (0.00 B)\n"
      ]
     },
     "metadata": {},
     "output_type": "display_data"
    }
   ],
   "source": [
    "#Creating LSTM model using keras\n",
    "model = Sequential()\n",
    "model.add(LSTM(units=50,return_sequences=True,input_shape=(X_train.shape[1],1)))\n",
    "model.add(LSTM(units=50,return_sequences=True))\n",
    "model.add(LSTM(units=50))\n",
    "model.add(Dense(units=1,activation='linear'))\n",
    "model.summary()"
   ]
  },
  {
   "cell_type": "code",
   "execution_count": 57,
   "id": "021e8d37",
   "metadata": {},
   "outputs": [
    {
     "name": "stdout",
     "output_type": "stream",
     "text": [
      "Epoch 1/10\n",
      "\u001b[1m200/200\u001b[0m \u001b[32m━━━━━━━━━━━━━━━━━━━━\u001b[0m\u001b[37m\u001b[0m \u001b[1m6s\u001b[0m 13ms/step - loss: 0.0047 - val_loss: 0.0012\n",
      "Epoch 2/10\n",
      "\u001b[1m200/200\u001b[0m \u001b[32m━━━━━━━━━━━━━━━━━━━━\u001b[0m\u001b[37m\u001b[0m \u001b[1m2s\u001b[0m 10ms/step - loss: 1.9465e-04 - val_loss: 8.5244e-04\n",
      "Epoch 3/10\n",
      "\u001b[1m200/200\u001b[0m \u001b[32m━━━━━━━━━━━━━━━━━━━━\u001b[0m\u001b[37m\u001b[0m \u001b[1m2s\u001b[0m 9ms/step - loss: 1.4753e-04 - val_loss: 8.3735e-04\n",
      "Epoch 4/10\n",
      "\u001b[1m200/200\u001b[0m \u001b[32m━━━━━━━━━━━━━━━━━━━━\u001b[0m\u001b[37m\u001b[0m \u001b[1m2s\u001b[0m 9ms/step - loss: 1.7821e-04 - val_loss: 0.0016\n",
      "Epoch 5/10\n",
      "\u001b[1m200/200\u001b[0m \u001b[32m━━━━━━━━━━━━━━━━━━━━\u001b[0m\u001b[37m\u001b[0m \u001b[1m2s\u001b[0m 10ms/step - loss: 1.9003e-04 - val_loss: 6.9502e-04\n",
      "Epoch 6/10\n",
      "\u001b[1m200/200\u001b[0m \u001b[32m━━━━━━━━━━━━━━━━━━━━\u001b[0m\u001b[37m\u001b[0m \u001b[1m2s\u001b[0m 9ms/step - loss: 1.6190e-04 - val_loss: 6.7994e-04\n",
      "Epoch 7/10\n",
      "\u001b[1m200/200\u001b[0m \u001b[32m━━━━━━━━━━━━━━━━━━━━\u001b[0m\u001b[37m\u001b[0m \u001b[1m2s\u001b[0m 10ms/step - loss: 1.5908e-04 - val_loss: 7.2794e-04\n",
      "Epoch 8/10\n",
      "\u001b[1m200/200\u001b[0m \u001b[32m━━━━━━━━━━━━━━━━━━━━\u001b[0m\u001b[37m\u001b[0m \u001b[1m2s\u001b[0m 10ms/step - loss: 1.6010e-04 - val_loss: 5.3458e-04\n",
      "Epoch 9/10\n",
      "\u001b[1m200/200\u001b[0m \u001b[32m━━━━━━━━━━━━━━━━━━━━\u001b[0m\u001b[37m\u001b[0m \u001b[1m2s\u001b[0m 10ms/step - loss: 1.4720e-04 - val_loss: 4.8841e-04\n",
      "Epoch 10/10\n",
      "\u001b[1m200/200\u001b[0m \u001b[32m━━━━━━━━━━━━━━━━━━━━\u001b[0m\u001b[37m\u001b[0m \u001b[1m2s\u001b[0m 9ms/step - loss: 1.0854e-04 - val_loss: 5.8093e-04\n"
     ]
    },
    {
     "data": {
      "text/plain": [
       "<keras.src.callbacks.history.History at 0x2d46fd258e0>"
      ]
     },
     "execution_count": 57,
     "metadata": {},
     "output_type": "execute_result"
    }
   ],
   "source": [
    "#Training model with adam optimizer and mean squared error loss function\n",
    "model.compile(loss='mean_squared_error',optimizer='adam')\n",
    "model.fit(X_train,y_train,validation_data=(X_test,y_test),epochs=10,batch_size=32)"
   ]
  },
  {
   "cell_type": "code",
   "execution_count": 58,
   "id": "46bc0a16",
   "metadata": {},
   "outputs": [
    {
     "data": {
      "text/plain": [
       "[<matplotlib.lines.Line2D at 0x2d462ab9070>]"
      ]
     },
     "execution_count": 58,
     "metadata": {},
     "output_type": "execute_result"
    },
    {
     "data": {
      "image/png": "[encoded data removed]",
      "text/plain": [
       "<Figure size 640x480 with 1 Axes>"
      ]
     },
     "metadata": {},
     "output_type": "display_data"
    }
   ],
   "source": [
    "#PLotting loss, it shows that loss has decreased significantly and model trained well\n",
    "loss = model.history.history['loss']\n",
    "plt.plot(loss)"
   ]
  },
  {
   "cell_type": "code",
   "execution_count": 59,
   "id": "c14cf08c",
   "metadata": {},
   "outputs": [
    {
     "name": "stdout",
     "output_type": "stream",
     "text": [
      "\u001b[1m200/200\u001b[0m \u001b[32m━━━━━━━━━━━━━━━━━━━━\u001b[0m\u001b[37m\u001b[0m \u001b[1m1s\u001b[0m 5ms/step\n",
      "\u001b[1m22/22\u001b[0m \u001b[32m━━━━━━━━━━━━━━━━━━━━\u001b[0m\u001b[37m\u001b[0m \u001b[1m0s\u001b[0m 3ms/step\n"
     ]
    }
   ],
   "source": [
    "#Predicitng on train and test data\n",
    "train_predict = model.predict(X_train)\n",
    "test_predict = model.predict(X_test)"
   ]
  },
  {
   "cell_type": "code",
   "execution_count": 60,
   "id": "f564563b",
   "metadata": {},
   "outputs": [],
   "source": [
    "#Inverse transform to get actual value\n",
    "train_predict = normalizer.inverse_transform(train_predict)\n",
    "test_predict = normalizer.inverse_transform(test_predict)"
   ]
  },
  {
   "cell_type": "code",
   "execution_count": 61,
   "id": "2de7792f",
   "metadata": {},
   "outputs": [
    {
     "data": {
      "text/plain": [
       "[<matplotlib.lines.Line2D at 0x2d4745315e0>]"
      ]
     },
     "execution_count": 61,
     "metadata": {},
     "output_type": "execute_result"
    },
    {
     "data": {
      "image/png": "[encoded data removed]",
      "text/plain": [
       "<Figure size 640x480 with 1 Axes>"
      ]
     },
     "metadata": {},
     "output_type": "display_data"
    }
   ],
   "source": [
    "#Comparing using visuals\n",
    "plt.plot(normalizer.inverse_transform(ds_scaled))\n",
    "plt.plot(train_predict)\n",
    "plt.plot(test_predict)"
   ]
  },
  {
   "cell_type": "code",
   "execution_count": 62,
   "id": "8c41e8ab",
   "metadata": {},
   "outputs": [
    {
     "data": {
      "text/plain": [
       "numpy.ndarray"
      ]
     },
     "execution_count": 62,
     "metadata": {},
     "output_type": "execute_result"
    }
   ],
   "source": [
    "type(train_predict)"
   ]
  },
  {
   "cell_type": "code",
   "execution_count": 63,
   "id": "8d7e0aed",
   "metadata": {},
   "outputs": [
    {
     "data": {
      "text/plain": [
       "array([[ -1.6543748],\n",
       "       [ -1.6552436],\n",
       "       [ -1.6556121],\n",
       "       ...,\n",
       "       [464.99878  ],\n",
       "       [466.48312  ],\n",
       "       [467.9135   ]], dtype=float32)"
      ]
     },
     "execution_count": 63,
     "metadata": {},
     "output_type": "execute_result"
    }
   ],
   "source": [
    "test = np.vstack((train_predict,test_predict))\n",
    "test"
   ]
  },
  {
   "cell_type": "code",
   "execution_count": 64,
   "id": "6253dc5c",
   "metadata": {},
   "outputs": [
    {
     "data": {
      "text/plain": [
       "[<matplotlib.lines.Line2D at 0x2d47458e420>]"
      ]
     },
     "execution_count": 64,
     "metadata": {},
     "output_type": "execute_result"
    },
    {
     "data": {
      "image/png": "[encoded data removed]",
      "text/plain": [
       "<Figure size 640x480 with 1 Axes>"
      ]
     },
     "metadata": {},
     "output_type": "display_data"
    }
   ],
   "source": [
    "#Combining the predited data to create uniform data visualization\n",
    "plt.plot(normalizer.inverse_transform(ds_scaled))\n",
    "plt.plot(test)"
   ]
  },
  {
   "cell_type": "code",
   "execution_count": 65,
   "id": "4a897b71",
   "metadata": {},
   "outputs": [
    {
     "data": {
      "text/plain": [
       "712"
      ]
     },
     "execution_count": 65,
     "metadata": {},
     "output_type": "execute_result"
    }
   ],
   "source": [
    "len(ds_test)"
   ]
  },
  {
   "cell_type": "code",
   "execution_count": 66,
   "id": "09e829ab",
   "metadata": {},
   "outputs": [
    {
     "data": {
      "text/plain": [
       "100"
      ]
     },
     "execution_count": 66,
     "metadata": {},
     "output_type": "execute_result"
    }
   ],
   "source": [
    "#Getting the last 100 days records\n",
    "starting_index = max(0, len(ds_test) - 100)\n",
    "\n",
    "# Fetch the last 100 records\n",
    "fut_inp = ds_test[starting_index:]\n",
    "len(fut_inp)"
   ]
  },
  {
   "cell_type": "code",
   "execution_count": 67,
   "id": "b5dc2c19",
   "metadata": {},
   "outputs": [],
   "source": [
    "fut_inp = fut_inp.reshape(1,-1)"
   ]
  },
  {
   "cell_type": "code",
   "execution_count": 68,
   "id": "3e7a5b6c",
   "metadata": {},
   "outputs": [],
   "source": [
    "tmp_inp = list(fut_inp)"
   ]
  },
  {
   "cell_type": "code",
   "execution_count": 69,
   "id": "84f48056",
   "metadata": {},
   "outputs": [
    {
     "data": {
      "text/plain": [
       "(1, 100)"
      ]
     },
     "execution_count": 69,
     "metadata": {},
     "output_type": "execute_result"
    }
   ],
   "source": [
    "fut_inp.shape"
   ]
  },
  {
   "cell_type": "code",
   "execution_count": 70,
   "id": "01c25f9d",
   "metadata": {},
   "outputs": [],
   "source": [
    "#Creating list of the last 100 data\n",
    "tmp_inp = tmp_inp[0].tolist()"
   ]
  },
  {
   "cell_type": "code",
   "execution_count": 71,
   "id": "b2fe6945",
   "metadata": {},
   "outputs": [
    {
     "name": "stdout",
     "output_type": "stream",
     "text": [
      "[[0.6875853538513184], [0.6922953724861145], [0.7002827525138855], [0.7103810906410217], [0.7216232419013977], [0.7333956956863403], [0.745373010635376], [0.7574090361595154], [0.7694510221481323], [0.7814884185791016]]\n"
     ]
    }
   ],
   "source": [
    "#Predicting next 30 days price suing the current data\n",
    "#It will predict in sliding window manner (algorithm) with stride 1\n",
    "lst_output=[]\n",
    "n_steps=100\n",
    "i=0\n",
    "while(i<10):\n",
    "    \n",
    "    if(len(tmp_inp)>100):\n",
    "        fut_inp = np.array(tmp_inp[1:])\n",
    "        fut_inp=fut_inp.reshape(1,-1)\n",
    "        fut_inp = fut_inp.reshape((1, n_steps, 1))\n",
    "        yhat = model.predict(fut_inp, verbose=0)\n",
    "        tmp_inp.extend(yhat[0].tolist())\n",
    "        tmp_inp = tmp_inp[1:]\n",
    "        lst_output.extend(yhat.tolist())\n",
    "        i=i+1\n",
    "    else:\n",
    "        fut_inp = fut_inp.reshape((1, n_steps,1))\n",
    "        yhat = model.predict(fut_inp, verbose=0)\n",
    "        tmp_inp.extend(yhat[0].tolist())\n",
    "        lst_output.extend(yhat.tolist())\n",
    "        i=i+1\n",
    "    \n",
    "\n",
    "print(lst_output)"
   ]
  },
  {
   "cell_type": "code",
   "execution_count": 72,
   "id": "a5810c30",
   "metadata": {},
   "outputs": [
    {
     "data": {
      "text/plain": [
       "7120"
      ]
     },
     "execution_count": 72,
     "metadata": {},
     "output_type": "execute_result"
    }
   ],
   "source": [
    "len(ds_scaled)"
   ]
  },
  {
   "cell_type": "code",
   "execution_count": 73,
   "id": "ae0358c6",
   "metadata": {},
   "outputs": [],
   "source": [
    "#Creating a dummy plane to plot graph one after another\n",
    "plot_new=np.arange(1,101)\n",
    "plot_pred=np.arange(101,111)"
   ]
  },
  {
   "cell_type": "code",
   "execution_count": 74,
   "id": "80b353aa",
   "metadata": {},
   "outputs": [
    {
     "data": {
      "text/plain": [
       "[<matplotlib.lines.Line2D at 0x2d4747e3290>]"
      ]
     },
     "execution_count": 74,
     "metadata": {},
     "output_type": "execute_result"
    },
    {
     "data": {
      "image/png": "[encoded data removed]",
      "text/plain": [
       "<Figure size 640x480 with 1 Axes>"
      ]
     },
     "metadata": {},
     "output_type": "display_data"
    }
   ],
   "source": [
    "plt.plot(plot_new, normalizer.inverse_transform(ds_scaled[max(0,len(ds_scaled)-100):]))\n",
    "plt.plot(plot_pred, normalizer.inverse_transform(lst_output))"
   ]
  },
  {
   "cell_type": "code",
   "execution_count": 75,
   "id": "061e6124",
   "metadata": {},
   "outputs": [],
   "source": [
    "ds_new = ds_scaled.tolist()"
   ]
  },
  {
   "cell_type": "code",
   "execution_count": 76,
   "id": "495af3eb",
   "metadata": {},
   "outputs": [
    {
     "data": {
      "text/plain": [
       "7120"
      ]
     },
     "execution_count": 76,
     "metadata": {},
     "output_type": "execute_result"
    }
   ],
   "source": [
    "len(ds_new)"
   ]
  },
  {
   "cell_type": "code",
   "execution_count": 77,
   "id": "82400e85",
   "metadata": {},
   "outputs": [
    {
     "data": {
      "text/plain": [
       "[<matplotlib.lines.Line2D at 0x2d474637d40>]"
      ]
     },
     "execution_count": 77,
     "metadata": {},
     "output_type": "execute_result"
    },
    {
     "data": {
      "image/png": "[encoded data removed]",
      "text/plain": [
       "<Figure size 640x480 with 1 Axes>"
      ]
     },
     "metadata": {},
     "output_type": "display_data"
    }
   ],
   "source": [
    "#Entends helps us to fill the missing value with approx value\n",
    "ds_new.extend(lst_output)\n",
    "plt.plot(ds_new[max(0,len(ds_scaled)-100):])"
   ]
  },
  {
   "cell_type": "code",
   "execution_count": 78,
   "id": "992f45c3",
   "metadata": {},
   "outputs": [
    {
     "data": {
      "text/plain": [
       "[[1.125],\n",
       " [1.037500023841858],\n",
       " [1.0750000476837158],\n",
       " [1.0750000476837158],\n",
       " [1.0750000476837158],\n",
       " [1.0750000476837158],\n",
       " [1.0824999809265137],\n",
       " [1.0750000476837158],\n",
       " [1.0765000581741333],\n",
       " [1.0750000476837158],\n",
       " [1.0750000476837158],\n",
       " [1.0499999523162842],\n",
       " [1.0499999523162842],\n",
       " [1.0499999523162842],\n",
       " [1.0549999475479126],\n",
       " [1.0301250219345093],\n",
       " [1.0700000524520874],\n",
       " [1.0475000143051147],\n",
       " [1.0487500429153442],\n",
       " [1.0499999523162842],\n",
       " [1.037500023841858],\n",
       " [1.0499999523162842],\n",
       " [1.0413750410079956],\n",
       " [1.0413750410079956],\n",
       " [1.0625],\n",
       " [1.0750000476837158],\n",
       " [1.0499999523162842],\n",
       " [1.0499999523162842],\n",
       " [1.0499999523162842],\n",
       " [1.0499999523162842],\n",
       " [1.0747499465942383],\n",
       " [1.0747499465942383],\n",
       " [1.0747499465942383],\n",
       " [1.0747499465942383],\n",
       " [1.125],\n",
       " [1.125],\n",
       " [1.125],\n",
       " [1.125],\n",
       " [1.125],\n",
       " [1.125],\n",
       " [1.125],\n",
       " [1.100000023841858],\n",
       " [1.1001249551773071],\n",
       " [1.125],\n",
       " [1.125],\n",
       " [1.100000023841858],\n",
       " [1.125],\n",
       " [1.125],\n",
       " [1.125],\n",
       " [1.1124999523162842],\n",
       " [1.118749976158142],\n",
       " [1.125],\n",
       " [1.050125002861023],\n",
       " [1.050125002861023],\n",
       " [1.0750000476837158],\n",
       " [1.087499976158142],\n",
       " [1.125],\n",
       " [1.1001249551773071],\n",
       " [1.1001249551773071],\n",
       " [1.1001249551773071],\n",
       " [1.1001249551773071],\n",
       " [1.100000023841858],\n",
       " [1.122499942779541],\n",
       " [1.122499942779541],\n",
       " [1.100000023841858],\n",
       " [1.100000023841858],\n",
       " [1.100000023841858],\n",
       " [1.100000023841858],\n",
       " [1.100000023841858],\n",
       " [1.100000023841858],\n",
       " [1.100000023841858],\n",
       " [1.100000023841858],\n",
       " [1.125],\n",
       " [1.100000023841858],\n",
       " [1.1050000190734863],\n",
       " [1.1001249551773071],\n",
       " [1.1024999618530273],\n",
       " [1.100000023841858],\n",
       " [1.125],\n",
       " [1.1349999904632568],\n",
       " [1.1349999904632568],\n",
       " [1.2000000476837158],\n",
       " [1.3049999475479126],\n",
       " [1.350000023841858],\n",
       " [1.315000057220459],\n",
       " [1.412500023841858],\n",
       " [1.4249999523162842],\n",
       " [1.3450000286102295],\n",
       " [1.3025000095367432],\n",
       " [1.309999942779541],\n",
       " [1.2999999523162842],\n",
       " [1.3025000095367432],\n",
       " [1.3025000095367432],\n",
       " [1.3125],\n",
       " [1.2999999523162842],\n",
       " [1.25],\n",
       " [1.2450000047683716],\n",
       " [1.2450000047683716],\n",
       " [1.3075000047683716],\n",
       " [1.2999999523162842],\n",
       " [1.2999999523162842],\n",
       " [1.2374999523162842],\n",
       " [1.225000023841858],\n",
       " [1.225000023841858],\n",
       " [1.25],\n",
       " [1.25],\n",
       " [1.25],\n",
       " [1.149999976158142],\n",
       " [1.162500023841858],\n",
       " [1.149999976158142],\n",
       " [1.1725000143051147],\n",
       " [1.1749999523162842],\n",
       " [1.1749999523162842],\n",
       " [1.2748750448226929],\n",
       " [1.2999999523162842],\n",
       " [1.2999999523162842],\n",
       " [1.3250000476837158],\n",
       " [1.4500000476837158],\n",
       " [1.5499999523162842],\n",
       " [1.3949999809265137],\n",
       " [1.387374997138977],\n",
       " [1.3875000476837158],\n",
       " [1.3875000476837158],\n",
       " [1.4249999523162842],\n",
       " [1.377500057220459],\n",
       " [1.3550000190734863],\n",
       " [1.3818750381469727],\n",
       " [1.350000023841858],\n",
       " [1.3224999904632568],\n",
       " [1.3049999475479126],\n",
       " [1.274999976158142],\n",
       " [1.2748750448226929],\n",
       " [1.287500023841858],\n",
       " [1.412500023841858],\n",
       " [1.3098750114440918],\n",
       " [1.2625000476837158],\n",
       " [1.2999999523162842],\n",
       " [1.2242499589920044],\n",
       " [1.247499942779541],\n",
       " [1.25],\n",
       " [1.274999976158142],\n",
       " [1.2748750448226929],\n",
       " [1.3125],\n",
       " [1.434999942779541],\n",
       " [1.3751250505447388],\n",
       " [1.3986250162124634],\n",
       " [1.3076250553131104],\n",
       " [1.3624999523162842],\n",
       " [1.399999976158142],\n",
       " [1.2999999523162842],\n",
       " [1.3125],\n",
       " [1.3075000047683716],\n",
       " [1.3002500534057617],\n",
       " [1.3002500534057617],\n",
       " [1.3118749856948853],\n",
       " [1.2999999523162842],\n",
       " [1.2949999570846558],\n",
       " [1.287500023841858],\n",
       " [1.287500023841858],\n",
       " [1.287500023841858],\n",
       " [1.274999976158142],\n",
       " [1.2925000190734863],\n",
       " [1.2899999618530273],\n",
       " [1.287500023841858],\n",
       " [1.2898750305175781],\n",
       " [1.2625000476837158],\n",
       " [1.2627500295639038],\n",
       " [1.2699999809265137],\n",
       " [1.2625000476837158],\n",
       " [1.2649999856948853],\n",
       " [1.25],\n",
       " [1.2498749494552612],\n",
       " [1.2151249647140503],\n",
       " [1.2151249647140503],\n",
       " [1.2151249647140503],\n",
       " [1.2151249647140503],\n",
       " [1.2000000476837158],\n",
       " [1.2000000476837158],\n",
       " [1.2000000476837158],\n",
       " [1.212499976158142],\n",
       " [1.212499976158142],\n",
       " [1.1866250038146973],\n",
       " [1.2483750581741333],\n",
       " [1.212499976158142],\n",
       " [1.25600004196167],\n",
       " [1.200124979019165],\n",
       " [1.2000000476837158],\n",
       " [1.2000000476837158],\n",
       " [1.1799999475479126],\n",
       " [1.1973750591278076],\n",
       " [1.1749999523162842],\n",
       " [1.149999976158142],\n",
       " [1.149999976158142],\n",
       " [1.149999976158142],\n",
       " [1.149999976158142],\n",
       " [1.149999976158142],\n",
       " [1.100000023841858],\n",
       " [1.1001249551773071],\n",
       " [1.0625],\n",
       " [1.0637500286102295],\n",
       " [1.0631250143051147],\n",
       " [1.0],\n",
       " [1.0623749494552612],\n",
       " [1.0998749732971191],\n",
       " [1.0750000476837158],\n",
       " [1.100000023841858],\n",
       " [1.1248749494552612],\n",
       " [1.0625],\n",
       " [1.087499976158142],\n",
       " [1.0950000286102295],\n",
       " [1.0950000286102295],\n",
       " [1.100000023841858],\n",
       " [1.162500023841858],\n",
       " [1.1251250505447388],\n",
       " [1.1251250505447388],\n",
       " [1.1251250505447388],\n",
       " [1.087499976158142],\n",
       " [1.087499976158142],\n",
       " [1.087499976158142],\n",
       " [1.087499976158142],\n",
       " [1.087499976158142],\n",
       " [1.087499976158142],\n",
       " [1.087499976158142],\n",
       " [1.100000023841858],\n",
       " [1.0950000286102295],\n",
       " [1.0824999809265137],\n",
       " [1.0824999809265137],\n",
       " [1.0499999523162842],\n",
       " [1.0723750591278076],\n",
       " [1.059999942779541],\n",
       " [1.059999942779541],\n",
       " [1.0499999523162842],\n",
       " [1.037500023841858],\n",
       " [1.037500023841858],\n",
       " [1.037500023841858],\n",
       " [1.037500023841858],\n",
       " [1.037500023841858],\n",
       " [1.037500023841858],\n",
       " [1.037500023841858],\n",
       " [0.9649999737739563],\n",
       " [0.9649999737739563],\n",
       " [0.9649999737739563],\n",
       " [0.9649999737739563],\n",
       " [0.9649999737739563],\n",
       " [0.9649999737739563],\n",
       " [0.8974999785423279],\n",
       " [0.8974999785423279],\n",
       " [0.8974999785423279],\n",
       " [0.837374985218048],\n",
       " [0.787500023841858],\n",
       " [0.787500023841858],\n",
       " [0.837499976158142],\n",
       " [0.8424999713897705],\n",
       " [0.8125],\n",
       " [0.8424999713897705],\n",
       " [0.8424999713897705],\n",
       " [0.837499976158142],\n",
       " [0.837499976158142],\n",
       " [0.8025000095367432],\n",
       " [0.787500023841858],\n",
       " [0.787500023841858],\n",
       " [0.787500023841858],\n",
       " [0.7674999833106995],\n",
       " [0.8125],\n",
       " [0.84375],\n",
       " [0.8450000286102294],\n",
       " [0.8450000286102294],\n",
       " [0.8500000238418579],\n",
       " [0.8500000238418579],\n",
       " [0.8500000238418579],\n",
       " [0.8723750114440919],\n",
       " [0.8600000143051147],\n",
       " [0.9100000262260438],\n",
       " [0.9006249904632568],\n",
       " [0.9006249904632568],\n",
       " [0.9006249904632568],\n",
       " [0.8749999999999999],\n",
       " [0.8749999999999999],\n",
       " [0.8749999999999999],\n",
       " [0.8749999999999999],\n",
       " [0.8749999999999999],\n",
       " [0.8999999761581421],\n",
       " [0.8749999999999999],\n",
       " [0.8749999999999999],\n",
       " [0.8749999999999999],\n",
       " [0.8749999999999999],\n",
       " [0.862500011920929],\n",
       " [0.862500011920929],\n",
       " [0.862500011920929],\n",
       " [0.862500011920929],\n",
       " [0.862500011920929],\n",
       " [0.8749999999999999],\n",
       " [0.893750011920929],\n",
       " [0.8943750262260437],\n",
       " [0.8999999761581421],\n",
       " [0.8999999761581421],\n",
       " [0.8999999761581421],\n",
       " [0.8999999761581421],\n",
       " [0.9275000095367432],\n",
       " [0.8999999761581421],\n",
       " [0.8749999999999999],\n",
       " [0.862500011920929],\n",
       " [0.9075000286102295],\n",
       " [0.8999999761581421],\n",
       " [0.8999999761581421],\n",
       " [0.987500011920929],\n",
       " [0.975000023841858],\n",
       " [1.0101250410079956],\n",
       " [1.0125000476837158],\n",
       " [1.0125000476837158],\n",
       " [1.0125000476837158],\n",
       " [1.0125000476837158],\n",
       " [1.0125000476837158],\n",
       " [1.0125000476837158],\n",
       " [0.987500011920929],\n",
       " [1.0],\n",
       " [1.0],\n",
       " [1.0],\n",
       " [1.0],\n",
       " [1.0],\n",
       " [1.0],\n",
       " [0.9624999761581421],\n",
       " [1.0],\n",
       " [0.9499999880790709],\n",
       " [0.9499999880790709],\n",
       " [0.9499999880790709],\n",
       " [0.9375],\n",
       " [0.9375],\n",
       " [0.9375],\n",
       " [0.9375],\n",
       " [0.925000011920929],\n",
       " [0.9075000286102295],\n",
       " [0.9350000023841858],\n",
       " [0.9375],\n",
       " [0.9605000019073485],\n",
       " [0.9605000019073485],\n",
       " [0.987500011920929],\n",
       " [0.9975000023841858],\n",
       " [0.9975000023841858],\n",
       " [0.9975000023841858],\n",
       " [0.9975000023841858],\n",
       " [1.0125000476837158],\n",
       " [1.002500057220459],\n",
       " [1.024999976158142],\n",
       " [1.0175000429153442],\n",
       " [1.0175000429153442],\n",
       " [1.0099999904632568],\n",
       " [1.037500023841858],\n",
       " [1.0449999570846558],\n",
       " [1.0625],\n",
       " [1.1449999809265137],\n",
       " [1.1399999856948853],\n",
       " [1.162500023841858],\n",
       " [1.1725000143051147],\n",
       " [1.1725000143051147],\n",
       " [1.2248749732971191],\n",
       " [1.274999976158142],\n",
       " [1.2287499904632568],\n",
       " [1.222499966621399],\n",
       " [1.2200000286102295],\n",
       " [1.2324999570846558],\n",
       " [1.2000000476837158],\n",
       " [1.212499976158142],\n",
       " [1.181249976158142],\n",
       " [1.225000023841858],\n",
       " [1.175125002861023],\n",
       " [1.1251250505447388],\n",
       " [1.1124999523162842],\n",
       " [1.100000023841858],\n",
       " [1.0971250534057617],\n",
       " [1.1050000190734863],\n",
       " [1.1124999523162842],\n",
       " [1.128749966621399],\n",
       " [1.1331249475479126],\n",
       " [1.1375000476837158],\n",
       " [1.1375000476837158],\n",
       " [1.1375000476837158],\n",
       " [1.225000023841858],\n",
       " [1.2374999523162842],\n",
       " [1.237375020980835],\n",
       " [1.225000023841858],\n",
       " [1.212499976158142],\n",
       " [1.2400000095367432],\n",
       " [1.199874997138977],\n",
       " [1.2238750457763672],\n",
       " [1.1950000524520874],\n",
       " [1.1549999713897705],\n",
       " [1.2287499904632568],\n",
       " [1.2699999809265137],\n",
       " [1.3287500143051147],\n",
       " [1.2762500047683716],\n",
       " [1.3700000047683716],\n",
       " [1.5075000524520874],\n",
       " [1.5325000286102293],\n",
       " [1.5475000143051147],\n",
       " [1.591249942779541],\n",
       " [1.6622500419616697],\n",
       " [1.5756249427795408],\n",
       " [1.6299999952316284],\n",
       " [1.6642500162124634],\n",
       " [1.6924999952316284],\n",
       " [1.66824996471405],\n",
       " [1.7487499713897705],\n",
       " [1.912500023841858],\n",
       " [1.9168750047683716],\n",
       " [1.8125000000000002],\n",
       " [1.922374963760376],\n",
       " [2.112499952316284],\n",
       " [2.237499952316284],\n",
       " [2.1162500381469727],\n",
       " [2.174875020980835],\n",
       " [2.375],\n",
       " [2.5],\n",
       " [2.4000000953674316],\n",
       " [2.444999933242798],\n",
       " [2.7833750247955322],\n",
       " [2.8375000953674316],\n",
       " [2.8594999313354497],\n",
       " [3.0596249103546143],\n",
       " [3.2738749980926514],\n",
       " [3.2899999618530273],\n",
       " [3.3125000000000004],\n",
       " [3.349999904632568],\n",
       " [3.2738749980926514],\n",
       " [3.1861250400543213],\n",
       " [3.1626250743865967],\n",
       " [3.0928750038146973],\n",
       " [3.125],\n",
       " [3.1493749618530273],\n",
       " [3.026249885559082],\n",
       " [3.0499999523162837],\n",
       " [3.087249994277954],\n",
       " [3.025000095367431],\n",
       " [2.950000047683716],\n",
       " [2.700000047683716],\n",
       " [2.737499952316284],\n",
       " [2.8499999046325684],\n",
       " [3.1749999523162846],\n",
       " [3.25],\n",
       " [3.2200000286102295],\n",
       " [3.1874999999999996],\n",
       " [3.5699999332427983],\n",
       " [3.6250000000000004],\n",
       " [3.612499952316284],\n",
       " [3.5625],\n",
       " [3.4853749275207524],\n",
       " [3.4474999904632573],\n",
       " [3.418750047683716],\n",
       " [3.352499961853028],\n",
       " [3.359999895095825],\n",
       " [3.3151249885559086],\n",
       " [3.3273749351501465],\n",
       " [3.452500104904175],\n",
       " [3.4876248836517334],\n",
       " [3.559999942779541],\n",
       " [3.737499952316284],\n",
       " [3.944999933242798],\n",
       " [3.825000047683716],\n",
       " [3.832750082015991],\n",
       " [3.832750082015991],\n",
       " [3.832750082015991],\n",
       " [3.832750082015991],\n",
       " [3.832750082015991],\n",
       " [3.828249931335449],\n",
       " [3.8125],\n",
       " [3.815375089645386],\n",
       " [3.8499999046325684],\n",
       " [3.674999952316284],\n",
       " [3.674999952316284],\n",
       " [3.5050001144409184],\n",
       " [11.212124824523928],\n",
       " [12.015000343322752],\n",
       " [4.619999885559082],\n",
       " [4.619999885559082],\n",
       " [4.51687479019165],\n",
       " [4.432499885559082],\n",
       " [4.366125106811523],\n",
       " [4.125],\n",
       " [4.320000171661377],\n",
       " [4.342124938964844],\n",
       " [4.350749969482422],\n",
       " [4.267499923706055],\n",
       " [4.139999866485596],\n",
       " [3.787874937057495],\n",
       " [3.5999999046325684],\n",
       " [3.615000009536743],\n",
       " [3.568125009536743],\n",
       " [3.5325000286102295],\n",
       " [3.2249999046325684],\n",
       " [3.2204999923706055],\n",
       " [3.079499959945679],\n",
       " [3.262500047683716],\n",
       " [3.150000095367432],\n",
       " [3.075000047683716],\n",
       " [3.118875026702881],\n",
       " [3.1402499675750737],\n",
       " [3.1019999980926514],\n",
       " [3.3224999904632564],\n",
       " [3.5250000953674316],\n",
       " [3.7113749980926514],\n",
       " [3.7125000953674316],\n",
       " [3.713624954223633],\n",
       " [3.899250030517578],\n",
       " [3.977999925613403],\n",
       " [4.012499809265137],\n",
       " [3.6375000476837154],\n",
       " [3.494999885559082],\n",
       " [3.509999990463257],\n",
       " [3.690000057220459],\n",
       " [3.6224999427795406],\n",
       " [3.563250064849853],\n",
       " [3.6127500534057617],\n",
       " [3.5250000953674316],\n",
       " [3.7132499217987065],\n",
       " [3.75],\n",
       " [3.7488749027252197],\n",
       " [3.765000104904175],\n",
       " [3.65512490272522],\n",
       " [3.720000028610229],\n",
       " [3.6866250038146973],\n",
       " [3.5325000286102295],\n",
       " [3.5999999046325684],\n",
       " [3.6367499828338623],\n",
       " [3.577125072479248],\n",
       " [3.509999990463257],\n",
       " [3.5699999332427983],\n",
       " [3.5564999580383305],\n",
       " [3.682499885559082],\n",
       " [3.7274999618530273],\n",
       " [3.7376248836517334],\n",
       " [3.674999952316284],\n",
       " [3.648750066757202],\n",
       " [3.674999952316284],\n",
       " [3.674999952316284],\n",
       " [3.6896250247955322],\n",
       " [3.674999952316284],\n",
       " [3.674999952316284],\n",
       " [3.652499914169312],\n",
       " [3.68512511253357],\n",
       " [3.6375000476837154],\n",
       " [3.65625],\n",
       " [3.641249895095825],\n",
       " [3.674999952316284],\n",
       " [3.6453750133514404],\n",
       " [3.6543750762939453],\n",
       " [3.7125000953674316],\n",
       " [3.68512511253357],\n",
       " [3.7125000953674316],\n",
       " [3.7125000953674316],\n",
       " [3.713624954223633],\n",
       " [3.690000057220459],\n",
       " [3.7139999866485596],\n",
       " [3.720000028610229],\n",
       " [3.7166249752044678],\n",
       " [3.7125000953674316],\n",
       " [3.724124908447266],\n",
       " [3.7143750190734863],\n",
       " [3.815624952316284],\n",
       " [3.839999914169311],\n",
       " [3.8025000095367436],\n",
       " [3.841125011444092],\n",
       " [4.053750038146973],\n",
       " [4.139999866485596],\n",
       " [4.462500095367432],\n",
       " [4.46999979019165],\n",
       " [4.537499904632568],\n",
       " [4.481249809265137],\n",
       " [4.545000076293945],\n",
       " [4.739999771118164],\n",
       " [4.574999809265137],\n",
       " [4.635000228881836],\n",
       " [4.507500171661377],\n",
       " [4.5491251945495605],\n",
       " [4.498875141143799],\n",
       " [4.522500038146973],\n",
       " [4.608749866485596],\n",
       " [4.522500038146973],\n",
       " [4.620375156402588],\n",
       " [4.755000114440918],\n",
       " [4.882500171661377],\n",
       " [5.175000190734863],\n",
       " [5.324999809265137],\n",
       " [5.414999961853027],\n",
       " [5.512125015258789],\n",
       " [5.400000095367432],\n",
       " [5.941500186920166],\n",
       " [5.587874889373779],\n",
       " [5.639999866485596],\n",
       " [6.300000190734864],\n",
       " [6.224999904632568],\n",
       " [6.374999999999999],\n",
       " [6.932624816894531],\n",
       " [6.934500217437743],\n",
       " [8.369999885559084],\n",
       " [8.659500122070312],\n",
       " [8.661375045776367],\n",
       " [8.663999557495117],\n",
       " [9.149999618530273],\n",
       " [10.274999618530273],\n",
       " [10.274999618530273],\n",
       " [10.807499885559082],\n",
       " [10.82474994659424],\n",
       " [11.677499771118164],\n",
       " [9.975000381469727],\n",
       " [10.612500190734863],\n",
       " [10.050374984741213],\n",
       " [9.869999885559082],\n",
       " [10.13249969482422],\n",
       " [10.164375305175783],\n",
       " [10.345499992370605],\n",
       " [10.686750411987305],\n",
       " [10.728750228881838],\n",
       " [10.875],\n",
       " [10.66950035095215],\n",
       " [10.537500381469727],\n",
       " [10.500000000000002],\n",
       " [10.387499809265138],\n",
       " [10.312500000000002],\n",
       " [10.28999996185303],\n",
       " [11.158124923706056],\n",
       " [11.100000381469727],\n",
       " [11.699999809265137],\n",
       " [11.999625205993652],\n",
       " [12.600749969482422],\n",
       " [12.0],\n",
       " [12.255000114440918],\n",
       " [12.600749969482422],\n",
       " [13.417499542236328],\n",
       " [14.25],\n",
       " [13.312500000000002],\n",
       " [14.25],\n",
       " [14.024999618530272],\n",
       " [13.800000190734863],\n",
       " [14.15999984741211],\n",
       " [13.702500343322756],\n",
       " [12.982500076293944],\n",
       " [13.5],\n",
       " [14.167499542236328],\n",
       " [13.125],\n",
       " [13.237500190734865],\n",
       " [13.651124954223633],\n",
       " [12.759374618530273],\n",
       " [12.94499969482422],\n",
       " [13.78499984741211],\n",
       " [12.84000015258789],\n",
       " [12.225000381469727],\n",
       " [12.262499809265137],\n",
       " [12.359624862670898],\n",
       " [13.079999923706056],\n",
       " [12.975000381469727],\n",
       " [13.125],\n",
       " [14.345999717712402],\n",
       " [13.875000000000002],\n",
       " [14.324999809265137],\n",
       " [14.100000381469727],\n",
       " [13.762499809265137],\n",
       " [14.467499732971191],\n",
       " [14.71500015258789],\n",
       " [14.422499656677246],\n",
       " [13.882499694824219],\n",
       " [14.257499694824217],\n",
       " [13.949999809265138],\n",
       " [14.24250030517578],\n",
       " [14.399999618530273],\n",
       " [14.475000381469725],\n",
       " [14.324999809265137],\n",
       " [13.890749931335451],\n",
       " [13.762499809265137],\n",
       " [13.649624824523924],\n",
       " [13.05749988555908],\n",
       " [13.125],\n",
       " [13.604999542236328],\n",
       " [14.632499694824219],\n",
       " [15.142499923706055],\n",
       " [14.925000190734863],\n",
       " [15.375],\n",
       " [14.681249618530273],\n",
       " [13.659749984741211],\n",
       " [14.385000228881836],\n",
       " [14.146875381469727],\n",
       " [14.399999618530273],\n",
       " [14.212499618530273],\n",
       " [13.875000000000002],\n",
       " [13.6875],\n",
       " [13.991250038146973],\n",
       " [13.762125015258789],\n",
       " [13.147500038146973],\n",
       " [13.087124824523924],\n",
       " [13.312500000000002],\n",
       " [14.25],\n",
       " [13.739999771118164],\n",
       " [13.837499618530273],\n",
       " [13.86674976348877],\n",
       " [14.010000228881838],\n",
       " [13.717499732971193],\n",
       " [13.6875],\n",
       " [13.574999809265137],\n",
       " [13.274999618530273],\n",
       " [13.335000038146973],\n",
       " [13.492500305175781],\n",
       " [13.5],\n",
       " [13.229999542236326],\n",
       " [13.462499618530272],\n",
       " [13.252499580383303],\n",
       " [12.757499694824219],\n",
       " [12.652125358581543],\n",
       " [12.727499961853027],\n",
       " [13.537500381469727],\n",
       " [13.725000381469727],\n",
       " [13.350000381469725],\n",
       " [13.312500000000002],\n",
       " [13.237500190734865],\n",
       " [13.15499973297119],\n",
       " [13.492500305175781],\n",
       " [13.323749542236328],\n",
       " [12.825374603271484],\n",
       " [13.125],\n",
       " [12.862500190734863],\n",
       " [13.529624938964844],\n",
       " [13.529624938964844],\n",
       " [13.425000190734863],\n",
       " [12.225375175476074],\n",
       " [12.749999999999998],\n",
       " [12.9375],\n",
       " [12.449999809265137],\n",
       " [12.34500026702881],\n",
       " [12.532875061035156],\n",
       " [13.574999809265137],\n",
       " [14.25],\n",
       " [15.074999809265138],\n",
       " [14.850375175476072],\n",
       " [14.842499732971193],\n",
       " [14.732999801635742],\n",
       " [14.925000190734863],\n",
       " [14.962499618530273],\n",
       " [15.02175045013428],\n",
       " [14.8125],\n",
       " [14.8125],\n",
       " [15.149999618530275],\n",
       " [14.699999809265137],\n",
       " [14.265000343322756],\n",
       " [14.25],\n",
       " [14.512874603271484],\n",
       " [14.482500076293945],\n",
       " [14.52750015258789],\n",
       " [14.36437511444092],\n",
       " [14.999625205993652],\n",
       " [14.23537540435791],\n",
       " [13.920000076293945],\n",
       " [14.047124862670898],\n",
       " [13.484999656677248],\n",
       " [13.274999618530273],\n",
       " [13.327500343322754],\n",
       " [13.537500381469727],\n",
       " [13.312500000000002],\n",
       " [13.199625015258789],\n",
       " [13.050000190734863],\n",
       " [13.020000457763672],\n",
       " [12.9375],\n",
       " [12.614999771118166],\n",
       " [12.59249973297119],\n",
       " [12.524999618530273],\n",
       " [12.5625],\n",
       " [12.5625],\n",
       " [12.38249969482422],\n",
       " [12.600000381469728],\n",
       " [12.585000038146973],\n",
       " [12.749999999999998],\n",
       " [13.11750030517578],\n",
       " [12.524999618530273],\n",
       " [12.600000381469728],\n",
       " [12.307499885559082],\n",
       " [12.420000076293944],\n",
       " [12.375374794006348],\n",
       " [12.420000076293944],\n",
       " [12.824999809265135],\n",
       " [13.574999809265137],\n",
       " [13.702875137329102],\n",
       " [13.312500000000002],\n",
       " [13.038749694824219],\n",
       " [13.125],\n",
       " [13.087499618530273],\n",
       " [13.5],\n",
       " [14.024999618530272],\n",
       " [13.6875],\n",
       " [13.986749649047852],\n",
       " [14.850000381469727],\n",
       " [16.649999618530273],\n",
       " [17.55037498474121],\n",
       " [18.637500762939453],\n",
       " [18.825000762939453],\n",
       " [19.31999969482422],\n",
       " [21.787500381469727],\n",
       " [24.337501525878906],\n",
       " [26.439001083374023],\n",
       " [24.000001907348636],\n",
       " [23.609251022338867],\n",
       " [23.250001907348633],\n",
       " [24.750001907348633],\n",
       " [27.112501144409176],\n",
       " [25.500001907348633],\n",
       " [28.0260009765625],\n",
       " [30.232500076293945],\n",
       " [32.17499923706055],\n",
       " [28.500001907348633],\n",
       " [27.412500381469727],\n",
       " [23.662500381469723],\n",
       " [25.21500015258789],\n",
       " [25.387500762939453],\n",
       " [24.330001831054688],\n",
       " [24.037500381469727],\n",
       " [24.60075187683106],\n",
       " [24.450000762939453],\n",
       " [24.832500457763672],\n",
       " [24.975000381469727],\n",
       " [24.825000762939453],\n",
       " [23.850000381469727],\n",
       " [23.812501907348633],\n",
       " [23.99250030517578],\n",
       " [23.850000381469727],\n",
       " [24.000001907348636],\n",
       " [24.000001907348636],\n",
       " [23.250001907348633],\n",
       " [25.125751495361328],\n",
       " [25.500375747680664],\n",
       " [28.42500114440918],\n",
       " [28.65000152587891],\n",
       " [29.392501831054688],\n",
       " [29.625751495361325],\n",
       " [28.87500190734863],\n",
       " [29.55000114440918],\n",
       " [27.750001907348633],\n",
       " [28.687501907348633],\n",
       " [27.660001754760742],\n",
       " [27.000001907348633],\n",
       " [29.55000114440918],\n",
       " [31.867500305175778],\n",
       " [32.56949996948242],\n",
       " [30.487501144409183],\n",
       " [30.30000114440918],\n",
       " [28.87500190734863],\n",
       " [29.760000228881832],\n",
       " [28.87500190734863],\n",
       " [28.125001907348633],\n",
       " [28.012500762939453],\n",
       " [27.600000381469727],\n",
       " [27.750001907348633],\n",
       " [28.75500106811523],\n",
       " [30.56250190734863],\n",
       " [30.20250129699707],\n",
       " [29.407501220703125],\n",
       " [27.375001907348633],\n",
       " [28.45500183105469],\n",
       " [28.005001068115234],\n",
       " [27.000001907348633],\n",
       " [24.499500274658203],\n",
       " [25.50750160217285],\n",
       " [25.51500129699707],\n",
       " [23.475000381469727],\n",
       " [23.662500381469723],\n",
       " [24.375001907348633],\n",
       " [27.52500152587891],\n",
       " [26.437501907348633],\n",
       " [27.750001907348633],\n",
       " [26.6403751373291],\n",
       " [24.38250160217285],\n",
       " [24.495000839233395],\n",
       " [24.750001907348633],\n",
       " [23.91750144958496],\n",
       " [26.977500915527344],\n",
       " [29.842500686645508],\n",
       " [32.34000015258789],\n",
       " [34.92787551879883],\n",
       " [37.5],\n",
       " [33.0],\n",
       " [33.01499938964844],\n",
       " [33.29999923706055],\n",
       " [32.05500030517578],\n",
       " [30.390001296997074],\n",
       " [31.162500381469727],\n",
       " [31.05000114440918],\n",
       " [30.750001907348633],\n",
       " [30.232500076293945],\n",
       " [30.30000114440918],\n",
       " [30.937501907348633],\n",
       " [30.487501144409183],\n",
       " [30.56250190734863],\n",
       " [30.937501907348633],\n",
       " [30.487501144409183],\n",
       " [30.00000190734863],\n",
       " [30.750001907348633],\n",
       " [30.66750144958496],\n",
       " [30.74250030517578],\n",
       " [32.17499923706055],\n",
       " [32.61000061035156],\n",
       " [31.950000762939453],\n",
       " [31.462501525878906],\n",
       " [31.312501907348633],\n",
       " [31.672500610351562],\n",
       " [31.692001342773438],\n",
       " [30.00000190734863],\n",
       " [30.292501449584964],\n",
       " [30.750001907348633],\n",
       " [30.450000762939453],\n",
       " [30.082500457763672],\n",
       " [30.00000190734863],\n",
       " [31.087501525878906],\n",
       " [30.750001907348633],\n",
       " [30.187501907348633],\n",
       " [30.600000381469727],\n",
       " [30.705001831054688],\n",
       " [30.750001907348633],\n",
       " [30.7653751373291],\n",
       " [31.087501525878906],\n",
       " [30.900001525878906],\n",
       " [30.67500114440918],\n",
       " [30.91312599182129],\n",
       " [31.200000762939457],\n",
       " [31.020000457763672],\n",
       " [31.125001907348636],\n",
       " [31.42500114440918],\n",
       " [31.499250411987305],\n",
       " [31.200000762939457],\n",
       " [32.040000915527344],\n",
       " [31.49250030517578],\n",
       " [31.42500114440918],\n",
       " [32.36249923706055],\n",
       " [33.07500076293945],\n",
       " [33.75],\n",
       " [33.75],\n",
       " [33.438751220703125],\n",
       " [35.25],\n",
       " [35.54999923706055],\n",
       " [38.400001525878906],\n",
       " [39.0],\n",
       " [38.25],\n",
       " [39.0],\n",
       " [40.125003814697266],\n",
       " [39.75],\n",
       " [39.36750030517578],\n",
       " [39.45000076293945],\n",
       " [39.45000076293945],\n",
       " [37.35000228881836],\n",
       " [38.54999923706055],\n",
       " [38.24250030517578],\n",
       " [37.875],\n",
       " [37.5],\n",
       " [38.625],\n",
       " [39.375],\n",
       " [38.91749954223633],\n",
       " [38.99250030517578],\n",
       " [39.0],\n",
       " [39.0],\n",
       " [39.0],\n",
       " [40.125003814697266],\n",
       " [40.500003814697266],\n",
       " [40.38750076293945],\n",
       " [40.875003814697266],\n",
       " [39.86249923706055],\n",
       " [39.45000076293945],\n",
       " [39.29999923706055],\n",
       " [38.4375],\n",
       " [39.14250183105469],\n",
       " [38.587501525878906],\n",
       " [37.462501525878906],\n",
       " [37.11262512207031],\n",
       " [37.125],\n",
       " [37.125],\n",
       " [37.79249954223633],\n",
       " [37.837501525878906],\n",
       " [39.375],\n",
       " [40.95000076293945],\n",
       " [9.286499977111816],\n",
       " [10.029749870300295],\n",
       " [10.798500061035158],\n",
       " [58.462501525878906],\n",
       " [50.92500305175781],\n",
       " [53.062503814697266],\n",
       " [52.16250228881837],\n",
       " [49.54125213623047],\n",
       " [49.687503814697266],\n",
       " [46.87500381469726],\n",
       " [50.70000076293946],\n",
       " [52.46250152587891],\n",
       " [54.375003814697266],\n",
       " [55.125003814697266],\n",
       " [51.750003814697266],\n",
       " [50.625003814697266],\n",
       " [52.50000381469727],\n",
       " [52.087501525878906],\n",
       " [48.78750228881837],\n",
       " [47.454376220703125],\n",
       " [51.000003814697266],\n",
       " [47.812503814697266],\n",
       " [47.250003814697266],\n",
       " [47.625003814697266],\n",
       " [41.47500228881836],\n",
       " [46.500003814697266],\n",
       " [44.625003814697266],\n",
       " [44.99625015258789],\n",
       " ...]"
      ]
     },
     "execution_count": 78,
     "metadata": {},
     "output_type": "execute_result"
    }
   ],
   "source": [
    "#Creating final data for plotting\n",
    "final_graph = normalizer.inverse_transform(ds_new).tolist()\n",
    "final_graph"
   ]
  },
  {
   "cell_type": "code",
   "execution_count": 79,
   "id": "37ede976",
   "metadata": {},
   "outputs": [
    {
     "name": "stdout",
     "output_type": "stream",
     "text": [
      "WIPRO.NS: Price 527.76, Change -7.5500 (-1.9411%)\n"
     ]
    },
    {
     "data": {
      "image/png": "[encoded data removed]",
      "text/plain": [
       "<Figure size 640x480 with 1 Axes>"
      ]
     },
     "metadata": {},
     "output_type": "display_data"
    }
   ],
   "source": [
    "#Plotting final results with predicted value for next day\n",
    "plt.plot(final_graph,)\n",
    "plt.ylabel(\"Price\")\n",
    "plt.xlabel(\"Time\")\n",
    "plt.title(\"{0} Prediction for Tommorow\".format(stock_symbol))\n",
    "plt.axhline(y=final_graph[len(final_graph)-1], color = 'green', linestyle = ':', label = 'Predicted Price: {0}'.format(round(float(*final_graph[len(final_graph)-1]),2)))\n",
    "plt.axhline(y=final_graph[len(final_graph)-2], color = 'green', linestyle = ':', label = 'Predicted Price: {0}'.format(round(float(*final_graph[len(final_graph)-2]),2)))\n",
    "plt.axhline(y=final_graph[len(final_graph)-3], color = 'green', linestyle = ':', label = 'Predicted Price: {0}'.format(round(float(*final_graph[len(final_graph)-3]),2)))\n",
    "plt.axhline(y=final_graph[len(final_graph)-4], color = 'green', linestyle = ':', label = 'Predicted Price: {0}'.format(round(float(*final_graph[len(final_graph)-4]),2)))\n",
    "plt.axhline(y=final_graph[len(final_graph)-5], color = 'green', linestyle = ':', label = 'Predicted Price: {0}'.format(round(float(*final_graph[len(final_graph)-5]),2)))\n",
    "plt.axhline(y=final_graph[len(final_graph)-1], color = 'green', linestyle = ':', label = 'Predicted Price: {0}'.format(round(float(*final_graph[len(final_graph)-6]),2)))\n",
    "plt.axhline(y=final_graph[len(final_graph)-1], color = 'green', linestyle = ':', label = 'Predicted Price: {0}'.format(round(float(*final_graph[len(final_graph)-7]),2)))\n",
    "plt.axhline(y=final_graph[len(final_graph)-1], color = 'green', linestyle = ':', label = 'Predicted Price: {0}'.format(round(float(*final_graph[len(final_graph)-8]),2)))\n",
    "plt.axhline(y=final_graph[len(final_graph)-1], color = 'green', linestyle = ':', label = 'Predicted Price: {0}'.format(round(float(*final_graph[len(final_graph)-9]),2)))\n",
    "plt.axhline(y=final_graph[len(final_graph)-1], color = 'green', linestyle = ':', label = 'Predicted Price: {0}'.format(round(float(*final_graph[len(final_graph)-10]),2)))\n",
    "plt.legend()\n",
    "\n",
    "average_value=np.mean(final_graph[-10:])\n",
    "average_value=round(float(average_value),2)\n",
    "print(f\"Final predicted price for {stock_symbol}: Price {average_value}, Change -7.5500 (-1.9411%)\")"
   ]
  },
  {
   "cell_type": "code",
   "execution_count": 80,
   "id": "b5418c8c",
   "metadata": {},
   "outputs": [
    {
     "name": "stderr",
     "output_type": "stream",
     "text": [
      "[nltk_data] Downloading package vader_lexicon to\n",
      "[nltk_data]     C:\\Users\\pandi\\AppData\\Roaming\\nltk_data...\n",
      "[nltk_data]   Package vader_lexicon is already up-to-date!\n"
     ]
    },
    {
     "name": "stdout",
     "output_type": "stream",
     "text": [
      "ARTICLE: Adani Ports And Special Economic Zone Ltd. - Moneycontrol\n",
      "Sentiment Score: 0.4019\n",
      "Sentiment: Positive\n",
      "\n",
      "ARTICLE: Adani Ports & Special Economic Zone Share Price Live NSE/BSE\n",
      "Sentiment Score: 0.5994\n",
      "Sentiment: Positive\n",
      "\n",
      "ARTICLE: Adani Ports & Special Economic Zone share price - Mint\n",
      "Sentiment Score: 0.5994\n",
      "Sentiment: Positive\n",
      "\n",
      "ARTICLE: News on Adani Ports and Special Economic Zone - Moneycontrol\n",
      "Sentiment Score: 0.4019\n",
      "Sentiment: Positive\n",
      "\n",
      "ARTICLE: Adani Ports and Special Economic Zone Share Price - cnbctv18\n",
      "Sentiment Score: 0.5994\n",
      "Sentiment: Positive\n",
      "\n",
      "ARTICLE: Adani Ports share price target goes up to Rs ... - The Economic Times\n",
      "Sentiment Score: 0.296\n",
      "Sentiment: Positive\n",
      "\n",
      "ARTICLE: Live Adani Ports & Special Economic Zone Share Price NSE/BSE\n",
      "Sentiment Score: 0.5994\n",
      "Sentiment: Positive\n",
      "\n",
      "ARTICLE: Adani Ports shares see revisions in stock price targets post Q4 results\n",
      "Sentiment Score: 0.296\n",
      "Sentiment: Positive\n",
      "\n",
      "ARTICLE: Adani Ports & Special Economic Zone Ltd Share Price Today\n",
      "Sentiment Score: 0.5994\n",
      "Sentiment: Positive\n",
      "\n",
      "ARTICLE: Adani Ports Ltd Stock Price Live NSE/BSE - Groww\n",
      "Sentiment Score: 0.0\n",
      "Sentiment: Neutral\n",
      "\n",
      "Overall Sentiment for ADANIPORTS is Positive 4.3928\n"
     ]
    }
   ],
   "source": [
    "#Performing sentiment analysis seperately\n",
    "import nltk\n",
    "nltk.download('vader_lexicon')\n",
    "import requests\n",
    "from bs4 import BeautifulSoup\n",
    "from nltk.sentiment.vader import SentimentIntensityAnalyzer\n",
    "\n",
    "def perform_sentiment_analysis(stock_symbol):\n",
    "    # Construct Google News URL for searching news related to the given stock symbol\n",
    "    url = f\"https://www.google.com/search?q={stock_symbol}+stock+news\"\n",
    "    \n",
    "    # Send a GET request to the URL and retrieve the HTML response\n",
    "    headers = {\"User-Agent\": \"Mozilla/5.0\"}\n",
    "    response = requests.get(url, headers=headers)\n",
    "    \n",
    "    # Parse the HTML content of the response\n",
    "    soup = BeautifulSoup(response.text, \"html.parser\")\n",
    "    \n",
    "    # Find all news articles on the page\n",
    "    search_results = soup.find_all(\"div\", class_=\"BNeawe vvjwJb AP7Wnd\")\n",
    "    \n",
    "    # Initialize SentimentIntensityAnalyzer\n",
    "    analyzer = SentimentIntensityAnalyzer()\n",
    "    \n",
    "    # Initialize variables for sentiment analysis\n",
    "    total_sentiment_score = 0\n",
    "    \n",
    "    # Iterate over each search result and perform sentiment analysis\n",
    "    for result in search_results:\n",
    "        # Extract text from the search result\n",
    "        result_text = result.get_text()\n",
    "        \n",
    "        # Perform sentiment analysis using VADER\n",
    "        sentiment_score = analyzer.polarity_scores(result_text)[\"compound\"]\n",
    "        total_sentiment_score += sentiment_score\n",
    "        \n",
    "        # Determine sentiment label\n",
    "        sentiment_label = \"Positive\" if sentiment_score > 0 else \"Negative\" if sentiment_score < 0 else \"Neutral\"\n",
    "        \n",
    "        # Print search result text, sentiment score, and sentiment label\n",
    "        print(f\"ARTICLE: {result_text}\\nSentiment Score: {sentiment_score}\\nSentiment: {sentiment_label}\\n\")\n",
    "    \n",
    "    # Determine overall sentiment label\n",
    "    overall_sentiment = \"Positive\" if total_sentiment_score > 0 else \"Negative\" if total_sentiment_score < 0 else \"Neutral\"\n",
    "    print(f\"Overall Sentiment for {stock_symbol} is {overall_sentiment} {total_sentiment_score}\")\n",
    "\n",
    "# Example usage\n",
    "stock_symbol = \"ADANIPORTS\"\n",
    "perform_sentiment_analysis(stock_symbol)\n"
   ]
  },
  {
   "cell_type": "code",
   "execution_count": 82,
   "metadata": {},
   "outputs": [
    {
     "name": "stderr",
     "output_type": "stream",
     "text": [
      "[nltk_data] Downloading package vader_lexicon to\n",
      "[nltk_data]     C:\\Users\\pandi\\AppData\\Roaming\\nltk_data...\n",
      "[nltk_data]   Package vader_lexicon is already up-to-date!\n"
     ]
    },
    {
     "name": "stdout",
     "output_type": "stream",
     "text": [
      "User: hi\n",
      "Digital Assistant: Hello there! How can I help you?\n",
      "User: hi\n",
      "Digital Assistant: Hello there! How can I help you?\n"
     ]
    },
    {
     "name": "stderr",
     "output_type": "stream",
     "text": [
      "[*********************100%%**********************]  1 of 1 completed\n",
      "C:\\Users\\pandi\\AppData\\Roaming\\Python\\Python312\\site-packages\\keras\\src\\layers\\rnn\\rnn.py:204: UserWarning: Do not pass an `input_shape`/`input_dim` argument to a layer. When using Sequential models, prefer using an `Input(shape)` object as the first layer in the model instead.\n",
      "  super().__init__(**kwargs)\n"
     ]
    },
    {
     "name": "stdout",
     "output_type": "stream",
     "text": [
      "Epoch 1/10\n",
      "\u001b[1m152/152\u001b[0m \u001b[32m━━━━━━━━━━━━━━━━━━━━\u001b[0m\u001b[37m\u001b[0m \u001b[1m5s\u001b[0m 12ms/step - loss: 0.0232 - val_loss: 5.5086e-04\n",
      "Epoch 2/10\n",
      "\u001b[1m152/152\u001b[0m \u001b[32m━━━━━━━━━━━━━━━━━━━━\u001b[0m\u001b[37m\u001b[0m \u001b[1m1s\u001b[0m 9ms/step - loss: 1.4146e-04 - val_loss: 6.0367e-04\n",
      "Epoch 3/10\n",
      "\u001b[1m152/152\u001b[0m \u001b[32m━━━━━━━━━━━━━━━━━━━━\u001b[0m\u001b[37m\u001b[0m \u001b[1m1s\u001b[0m 9ms/step - loss: 1.3357e-04 - val_loss: 8.5769e-04\n",
      "Epoch 4/10\n",
      "\u001b[1m152/152\u001b[0m \u001b[32m━━━━━━━━━━━━━━━━━━━━\u001b[0m\u001b[37m\u001b[0m \u001b[1m1s\u001b[0m 9ms/step - loss: 1.4044e-04 - val_loss: 6.2745e-04\n",
      "Epoch 5/10\n",
      "\u001b[1m152/152\u001b[0m \u001b[32m━━━━━━━━━━━━━━━━━━━━\u001b[0m\u001b[37m\u001b[0m \u001b[1m2s\u001b[0m 11ms/step - loss: 1.2793e-04 - val_loss: 6.0179e-04\n",
      "Epoch 6/10\n",
      "\u001b[1m152/152\u001b[0m \u001b[32m━━━━━━━━━━━━━━━━━━━━\u001b[0m\u001b[37m\u001b[0m \u001b[1m2s\u001b[0m 13ms/step - loss: 1.5487e-04 - val_loss: 0.0012\n",
      "Epoch 7/10\n",
      "\u001b[1m152/152\u001b[0m \u001b[32m━━━━━━━━━━━━━━━━━━━━\u001b[0m\u001b[37m\u001b[0m \u001b[1m3s\u001b[0m 14ms/step - loss: 1.6361e-04 - val_loss: 6.5707e-04\n",
      "Epoch 8/10\n",
      "\u001b[1m152/152\u001b[0m \u001b[32m━━━━━━━━━━━━━━━━━━━━\u001b[0m\u001b[37m\u001b[0m \u001b[1m2s\u001b[0m 11ms/step - loss: 2.0392e-04 - val_loss: 5.4190e-04\n",
      "Epoch 9/10\n",
      "\u001b[1m152/152\u001b[0m \u001b[32m━━━━━━━━━━━━━━━━━━━━\u001b[0m\u001b[37m\u001b[0m \u001b[1m3s\u001b[0m 11ms/step - loss: 1.5852e-04 - val_loss: 5.0319e-04\n",
      "Epoch 10/10\n",
      "\u001b[1m152/152\u001b[0m \u001b[32m━━━━━━━━━━━━━━━━━━━━\u001b[0m\u001b[37m\u001b[0m \u001b[1m2s\u001b[0m 12ms/step - loss: 1.4298e-04 - val_loss: 6.6676e-04\n",
      "\u001b[1m152/152\u001b[0m \u001b[32m━━━━━━━━━━━━━━━━━━━━\u001b[0m\u001b[37m\u001b[0m \u001b[1m1s\u001b[0m 5ms/step\n",
      "\u001b[1m17/17\u001b[0m \u001b[32m━━━━━━━━━━━━━━━━━━━━\u001b[0m\u001b[37m\u001b[0m \u001b[1m0s\u001b[0m 4ms/step\n",
      "User: predicted price for TCS.NS\n",
      "Digital Assistant: TCS.NS's predicted price for tomorrow is: 5740.12\n",
      "User: sentiment analysis for REFEX.NS\n",
      "Digital Assistant: Overall Sentiment for REFEX.NS is Negative -0.01720000000000005\n",
      "User: sentiment analysis for TCS.NS\n",
      "Digital Assistant: Overall Sentiment for TCS.NS is Positive 0.9577\n",
      "User: sentiment analysis for TCS.NS\n",
      "Digital Assistant: Overall Sentiment for TCS.NS is Positive 0.43539999999999995\n"
     ]
    },
    {
     "name": "stderr",
     "output_type": "stream",
     "text": [
      "[*********************100%%**********************]  1 of 1 completed\n"
     ]
    },
    {
     "name": "stdout",
     "output_type": "stream",
     "text": [
      "User: ONGC.NS\n",
      "Digital Assistant: ONGC.NS: Price [284.], Change -7.5500 (-1.9411%)\n"
     ]
    },
    {
     "ename": "AttributeError",
     "evalue": "'str' object has no attribute 'input'",
     "output_type": "error",
     "traceback": [
      "\u001b[1;31m---------------------------------------------------------------------------\u001b[0m",
      "\u001b[1;31mAttributeError\u001b[0m                            Traceback (most recent call last)",
      "Cell \u001b[1;32mIn[82], line 191\u001b[0m\n\u001b[0;32m    188\u001b[0m             \u001b[38;5;28;01mbreak\u001b[39;00m\n\u001b[0;32m    190\u001b[0m \u001b[38;5;28;01mif\u001b[39;00m \u001b[38;5;18m__name__\u001b[39m \u001b[38;5;241m==\u001b[39m \u001b[38;5;124m\"\u001b[39m\u001b[38;5;124m__main__\u001b[39m\u001b[38;5;124m\"\u001b[39m:\n\u001b[1;32m--> 191\u001b[0m     \u001b[43mmain\u001b[49m\u001b[43m(\u001b[49m\u001b[43m)\u001b[49m\n",
      "Cell \u001b[1;32mIn[82], line 184\u001b[0m, in \u001b[0;36mmain\u001b[1;34m()\u001b[0m\n\u001b[0;32m    182\u001b[0m \u001b[38;5;28;01mwhile\u001b[39;00m \u001b[38;5;28;01mTrue\u001b[39;00m:\n\u001b[0;32m    183\u001b[0m     user_input \u001b[38;5;241m=\u001b[39m \u001b[38;5;28minput\u001b[39m(\u001b[38;5;124m\"\u001b[39m\u001b[38;5;124mYou: \u001b[39m\u001b[38;5;124m\"\u001b[39m)\n\u001b[1;32m--> 184\u001b[0m     response \u001b[38;5;241m=\u001b[39m \u001b[43mchatbot_response\u001b[49m\u001b[43m(\u001b[49m\u001b[43muser_input\u001b[49m\u001b[43m)\u001b[49m\n\u001b[0;32m    185\u001b[0m     \u001b[38;5;28mprint\u001b[39m(\u001b[38;5;124m\"\u001b[39m\u001b[38;5;124mUser:\u001b[39m\u001b[38;5;124m\"\u001b[39m,user_input)\n\u001b[0;32m    186\u001b[0m     \u001b[38;5;28mprint\u001b[39m(\u001b[38;5;124m\"\u001b[39m\u001b[38;5;124mDigital Assistant:\u001b[39m\u001b[38;5;124m\"\u001b[39m, response)\n",
      "Cell \u001b[1;32mIn[82], line 174\u001b[0m, in \u001b[0;36mchatbot_response\u001b[1;34m(input_text)\u001b[0m\n\u001b[0;32m    172\u001b[0m     \u001b[38;5;28;01melse\u001b[39;00m:\n\u001b[0;32m    173\u001b[0m         \u001b[38;5;28;01mreturn\u001b[39;00m \u001b[38;5;124m\"\u001b[39m\u001b[38;5;124mSorry, I couldn\u001b[39m\u001b[38;5;124m'\u001b[39m\u001b[38;5;124mt retrieve the stock price at the moment.\u001b[39m\u001b[38;5;124m\"\u001b[39m\n\u001b[1;32m--> 174\u001b[0m \u001b[38;5;28;01melif\u001b[39;00m \u001b[38;5;124m\"\u001b[39m\u001b[38;5;124mexit\u001b[39m\u001b[38;5;124m\"\u001b[39m \u001b[38;5;129;01min\u001b[39;00m \u001b[43minput_text\u001b[49m\u001b[38;5;241;43m.\u001b[39;49m\u001b[43minput\u001b[49m():\n\u001b[0;32m    175\u001b[0m     \u001b[38;5;28;01mreturn\u001b[39;00m \u001b[38;5;124m\"\u001b[39m\u001b[38;5;124mGood Bye.\u001b[39m\u001b[38;5;124m\"\u001b[39m\n\u001b[0;32m    176\u001b[0m \u001b[38;5;28;01melse\u001b[39;00m:\n",
      "\u001b[1;31mAttributeError\u001b[0m: 'str' object has no attribute 'input'"
     ]
    }
   ],
   "source": [
    "# Yahoo Finance as data source\n",
    "# pip install yfinance\n",
    "# chatbot implementation of the above project\n",
    "# sample input text  sentiment analysis for WIPRO.NS will perform sentiment analysis\n",
    "# predicted price for TCS.NS will perform price prediction for that stock\n",
    "# TCS.NS simply giving the stock name will provide the current price of the stock\n",
    "\n",
    "import nltk\n",
    "nltk.download('vader_lexicon')\n",
    "import yfinance as yf\n",
    "import matplotlib.pyplot as plt\n",
    "import numpy as np\n",
    "from sklearn.preprocessing import MinMaxScaler\n",
    "from keras.models import Sequential\n",
    "from keras.layers import Dense, LSTM\n",
    "from nltk.sentiment.vader import SentimentIntensityAnalyzer\n",
    "import requests\n",
    "from bs4 import BeautifulSoup\n",
    "import re\n",
    "\n",
    "# Function to perform sentiment analysis on news articles related to a stock symbol\n",
    "def perform_sentiment_analysis(stock_symbol):\n",
    "    # Construct Google News URL for searching news related to the given stock symbol\n",
    "    url = f\"https://www.google.com/search?q={stock_symbol}+stock+news\"\n",
    "    \n",
    "    # Send a GET request to the URL and retrieve the HTML response\n",
    "    headers = {\"User-Agent\": \"Mozilla/5.0\"}\n",
    "    response = requests.get(url, headers=headers)\n",
    "    \n",
    "    # Parse the HTML content of the response\n",
    "    soup = BeautifulSoup(response.text, \"html.parser\")\n",
    "    \n",
    "    # Find all news articles on the page\n",
    "    search_results = soup.find_all(\"div\", class_=\"BNeawe vvjwJb AP7Wnd\")\n",
    "    \n",
    "    # Initialize SentimentIntensityAnalyzer\n",
    "    analyzer = SentimentIntensityAnalyzer()\n",
    "    \n",
    "    # Initialize variables for sentiment analysis\n",
    "    total_sentiment_score = 0\n",
    "    \n",
    "    # Iterate over each search result and perform sentiment analysis\n",
    "    for result in search_results:\n",
    "        # Extract text from the search result\n",
    "        result_text = result.get_text()\n",
    "        \n",
    "        # Perform sentiment analysis using VADER\n",
    "        sentiment_score = analyzer.polarity_scores(result_text)[\"compound\"]\n",
    "        total_sentiment_score += sentiment_score\n",
    "        \n",
    "        # Determine sentiment label\n",
    "        sentiment_label = \"Positive\" if sentiment_score > 0 else \"Negative\" if sentiment_score < 0 else \"Neutral\"\n",
    "        \n",
    "        # Print search result text, sentiment score, and sentiment label\n",
    "        # print(f\"ARTICLE: {result_text}\\nSentiment Score: {sentiment_score}\\nSentiment: {sentiment_label}\\n\")\n",
    "    \n",
    "    # Determine overall sentiment label\n",
    "    overall_sentiment = \"Positive\" if total_sentiment_score > 0 else \"Negative\" if total_sentiment_score < 0 else \"Neutral\"\n",
    "    return f\"Overall Sentiment for {stock_symbol} is {overall_sentiment} {total_sentiment_score}\"\n",
    "\n",
    "#creating dataset in time series for LSTM model \n",
    "#X[100,120,140,160,180] : Y[200]\n",
    "def create_ds(dataset,step):\n",
    "    Xtrain, Ytrain = [], []\n",
    "    for i in range(len(dataset)-step-1):\n",
    "        a = dataset[i:(i+step), 0]\n",
    "        Xtrain.append(a)\n",
    "        Ytrain.append(dataset[i + step, 0])\n",
    "    return np.array(Xtrain), np.array(Ytrain)\n",
    "\n",
    "\n",
    "\n",
    "def get_stock_price(stock_symbol):\n",
    "    data = yf.download(tickers=stock_symbol,period='Max',interval='1d')\n",
    "    opn = data[['Open']]\n",
    "    ds = opn.values\n",
    "    if(len(ds)<=0):\n",
    "        return False\n",
    "    return ds[len(ds)-1]\n",
    "\n",
    "def get_predicted_price(stock_symbol):\n",
    "   #all data with interval of 1 day\n",
    "    data = yf.download(tickers=stock_symbol,period='Max',interval='1d')\n",
    "    opn = data[['Open']]\n",
    "    ds = opn.values\n",
    "    #Using MinMaxScaler for normalizing data between 0 & 1\n",
    "    normalizer = MinMaxScaler(feature_range=(0,1))\n",
    "    ds_scaled = normalizer.fit_transform(np.array(ds).reshape(-1,1))\n",
    "    #Defining test and train data sizes\n",
    "    train_size = int(len(ds_scaled)*0.90)\n",
    "    test_size = len(ds_scaled) - train_size\n",
    "    #Splitting data between train and test\n",
    "    ds_train, ds_test = ds_scaled[0:train_size,:], ds_scaled[train_size:len(ds_scaled),:1]\n",
    "    #Taking 100 days price as one record for training\n",
    "    time_stamp = 10\n",
    "    X_train, y_train = create_ds(ds_train,time_stamp)\n",
    "    X_test, y_test = create_ds(ds_test,time_stamp)\n",
    "    #Reshaping data to fit into LSTM model\n",
    "    X_train = X_train.reshape(X_train.shape[0],X_train.shape[1] , 1)\n",
    "    X_test = X_test.reshape(X_test.shape[0],X_test.shape[1] , 1)\n",
    "    #Creating LSTM model using keras\n",
    "    model = Sequential()\n",
    "    model.add(LSTM(units=50,return_sequences=True,input_shape=(X_train.shape[1],1)))\n",
    "    model.add(LSTM(units=50,return_sequences=True))\n",
    "    model.add(LSTM(units=50))\n",
    "    model.add(Dense(units=1,activation='linear'))\n",
    "    #Training model with adam optimizer and mean squared error loss function\n",
    "    model.compile(loss='mean_squared_error',optimizer='adam')\n",
    "    model.fit(X_train,y_train,validation_data=(X_test,y_test),epochs=10,batch_size=32)\n",
    "    #Predicitng on train and test data\n",
    "    train_predict = model.predict(X_train)\n",
    "    test_predict = model.predict(X_test)\n",
    "    #Inverse transform to get actual value\n",
    "    train_predict = normalizer.inverse_transform(train_predict)\n",
    "    test_predict = normalizer.inverse_transform(test_predict)\n",
    "    test = np.vstack((train_predict,test_predict))\n",
    "    starting_index = max(0, len(ds_test) - 100)\n",
    "    fut_inp = ds_test[starting_index:]\n",
    "    fut_inp = fut_inp.reshape(1,-1)\n",
    "    tmp_inp = list(fut_inp)\n",
    "    #Creating list of the last 100 data\n",
    "    tmp_inp = tmp_inp[0].tolist()\n",
    "    #Predicting next 30 days price suing the current data\n",
    "    #It will predict in sliding window manner (algorithm) with stride 1\n",
    "    lst_output=[]\n",
    "    n_steps=100\n",
    "    i=0\n",
    "    while(i<10): \n",
    "        if(len(tmp_inp)>100):\n",
    "            fut_inp = np.array(tmp_inp[1:])\n",
    "            fut_inp=fut_inp.reshape(1,-1)\n",
    "            fut_inp = fut_inp.reshape((1, n_steps, 1))\n",
    "            yhat = model.predict(fut_inp, verbose=0)\n",
    "            tmp_inp.extend(yhat[0].tolist())\n",
    "            tmp_inp = tmp_inp[1:]\n",
    "            lst_output.extend(yhat.tolist())\n",
    "            i=i+1\n",
    "        else:\n",
    "            fut_inp = fut_inp.reshape((1, n_steps,1))\n",
    "            yhat = model.predict(fut_inp, verbose=0)\n",
    "            tmp_inp.extend(yhat[0].tolist())\n",
    "            lst_output.extend(yhat.tolist())\n",
    "            i=i+1   \n",
    "    ds_new = ds_scaled.tolist()\n",
    "    ds_new.extend(lst_output)\n",
    "    final_graph = normalizer.inverse_transform(ds_new).tolist()\n",
    "    average_value=np.mean(final_graph[-10:])\n",
    "    average_value=round(float(average_value),2)\n",
    "    return average_value\n",
    " \n",
    "# Function to respond to user input\n",
    "def chatbot_response(input_text):\n",
    "    if \"hi\" in input_text.lower():\n",
    "        return \"Hello there! How can I help you?\"\n",
    "    elif \"predicted price\" in input_text.lower():\n",
    "        stock_symbol = re.search(r'[A-Z]+\\.[A-Z]+', input_text).group()\n",
    "        predicted_price = get_predicted_price(stock_symbol)\n",
    "        if predicted_price:\n",
    "            return f\"{stock_symbol}'s predicted price for tomorrow is: {predicted_price}\"\n",
    "        else:\n",
    "            return \"Sorry, I couldn't retrieve the predicted price at the moment.\"\n",
    "    elif \"sentiment\" in input_text.lower():\n",
    "        stock_symbol = re.search(r'[A-Z]+\\.[A-Z]+', input_text).group()\n",
    "        \n",
    "        # print(f\"Performing sentiment analysis for {stock_symbol}...\")\n",
    "        return perform_sentiment_analysis(stock_symbol)\n",
    "    elif re.search(r'[A-Z]+\\.[A-Z]+', input_text):\n",
    "        stock_symbol = re.search(r'[A-Z]+\\.[A-Z]+', input_text).group()\n",
    "        stock_price = get_stock_price(stock_symbol)\n",
    "        if stock_price:\n",
    "            return f\"{stock_symbol}: Price {stock_price}, Change -7.5500 (-1.9411%)\"\n",
    "        else:\n",
    "            return \"Sorry, I couldn't retrieve the stock price at the moment.\"\n",
    "    elif \"exit\" in input_text.lower():\n",
    "        return \"Good Bye.\"\n",
    "    else:\n",
    "        return \"I'm sorry, I didn't understand your input.\"\n",
    "\n",
    "\n",
    "# Example usage\n",
    "def main():\n",
    "    while True:\n",
    "        user_input = input(\"You: \")\n",
    "        response = chatbot_response(user_input)\n",
    "        print()\n",
    "        print(\"User:\",user_input)\n",
    "        print(\"Digital Assistant:\", response)\n",
    "        print()\n",
    "        if \"exit\" in user_input.lower():\n",
    "            break\n",
    "\n",
    "if __name__ == \"__main__\":\n",
    "    main()\n",
    "\n",
    "\n"
   ]
  }
 ],
 "metadata": {
  "kernelspec": {
   "display_name": "Python 3 (ipykernel)",
   "language": "python",
   "name": "python3"
  },
  "language_info": {
   "codemirror_mode": {
    "name": "ipython",
    "version": 3
   },
   "file_extension": ".py",
   "mimetype": "text/x-python",
   "name": "python",
   "nbconvert_exporter": "python",
   "pygments_lexer": "ipython3",
   "version": "3.12.1"
  }
 },
 "nbformat": 4,
 "nbformat_minor": 5
}
